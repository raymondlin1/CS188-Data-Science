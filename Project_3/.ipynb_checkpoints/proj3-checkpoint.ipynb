{
 "cells": [
  {
   "cell_type": "code",
   "execution_count": 1,
   "metadata": {
    "editable": false
   },
   "outputs": [
    {
     "name": "stdout",
     "output_type": "stream",
     "text": [
      "=====================================================================\n",
      "Assignment: proj3\n",
      "OK, version v1.14.20\n",
      "=====================================================================\n",
      "\n"
     ]
    }
   ],
   "source": [
    "# Initialize OK\n",
    "# If you see an error message, you'll need to do\n",
    "# pip3 install okpy\n",
    "from client.api.notebook import Notebook\n",
    "ok = Notebook('proj3.ok')"
   ]
  },
  {
   "cell_type": "markdown",
   "metadata": {},
   "source": [
    "# Project 3: Predicting Taxi Ride Duration\n",
    "## Due Date: Wednesday 3/4/20, 11:59PM\n",
    "\n",
    "**Collaboration Policy**\n",
    "\n",
    "Data science is a collaborative activity. While you may talk with others about\n",
    "the project, we ask that you **write your solutions individually**. If you do\n",
    "discuss the assignments with others please **include their names** at the top\n",
    "of your notebook."
   ]
  },
  {
   "cell_type": "markdown",
   "metadata": {},
   "source": [
    "**Collaborators**: *list collaborators here*"
   ]
  },
  {
   "cell_type": "markdown",
   "metadata": {},
   "source": [
    "## Score Breakdown\n",
    "Question | Points\n",
    "--- | ---\n",
    "1b | 2\n",
    "1c | 3\n",
    "1d | 2\n",
    "2a | 1\n",
    "2b | 2\n",
    "3a | 2\n",
    "3b | 1\n",
    "3c | 2\n",
    "3d | 2\n",
    "4a | 2\n",
    "4b | 2\n",
    "4c | 2\n",
    "4d | 2\n",
    "4e | 2\n",
    "4f | 2\n",
    "4g | 4\n",
    "5b | 7\n",
    "5c | 3\n",
    "Total | 43"
   ]
  },
  {
   "cell_type": "markdown",
   "metadata": {},
   "source": [
    "## This Assignment\n",
    "In this project, you will use what you've learned in class to create a regression model that predicts the travel time of a taxi ride in New York. Some questions in this project are more substantial than those of past projects.\n",
    "\n",
    "After this project, you should feel comfortable with the following:\n",
    "\n",
    "- The data science lifecycle: data selection and cleaning, EDA, feature engineering, and model selection.\n",
    "- Using `sklearn` to process data and fit linear regression models.\n",
    "- Embedding linear regression as a component in a more complex model.\n",
    "\n",
    "First, let's import:"
   ]
  },
  {
   "cell_type": "code",
   "execution_count": 2,
   "metadata": {
    "ExecuteTime": {
     "end_time": "2019-04-19T00:52:10.469067Z",
     "start_time": "2019-04-19T00:52:09.326799Z"
    }
   },
   "outputs": [],
   "source": [
    "import numpy as np\n",
    "import pandas as pd\n",
    "\n",
    "import matplotlib.pyplot as plt\n",
    "%matplotlib inline\n",
    "\n",
    "import seaborn as sns"
   ]
  },
  {
   "cell_type": "markdown",
   "metadata": {},
   "source": [
    "## The Data\n",
    "Attributes of all [yellow taxi](https://en.wikipedia.org/wiki/Taxicabs_of_New_York_City) trips in January 2016 are published by the [NYC Taxi and Limosine Commission](https://www1.nyc.gov/site/tlc/about/tlc-trip-record-data.page).\n",
    "\n",
    "The full data set takes a long time to download directly, so we've placed a simple random sample of the data into `taxi.db`, a SQLite database. You can view the code used to generate this sample in the `taxi_sample.ipynb` file included with this project (not required).\n",
    "\n",
    "Columns of the `taxi` table in `taxi.db` include:\n",
    "- `pickup_datetime`: date and time when the meter was engaged\n",
    "- `dropoff_datetime`: date and time when the meter was disengaged\n",
    "- `pickup_lon`: the longitude where the meter was engaged\n",
    "- `pickup_lat`: the latitude where the meter was engaged\n",
    "- `dropoff_lon`: the longitude where the meter was disengaged\n",
    "- `dropoff_lat`: the latitude where the meter was disengaged\n",
    "- `passengers`: the number of passengers in the vehicle (driver entered value)\n",
    "- `distance`: trip distance\n",
    "- `duration`: duration of the trip in seconds\n",
    "\n",
    "Your goal will be to predict `duration` from the pick-up time, pick-up and drop-off locations, and distance."
   ]
  },
  {
   "cell_type": "markdown",
   "metadata": {},
   "source": [
    "## Part 1: Data Selection and Cleaning\n",
    "\n",
    "In this part, you will limit the data to trips that began and ended on Manhattan Island ([map](https://www.google.com/maps/place/Manhattan,+New+York,+NY/@40.7590402,-74.0394431,12z/data=!3m1!4b1!4m5!3m4!1s0x89c2588f046ee661:0xa0b3281fcecc08c!8m2!3d40.7830603!4d-73.9712488)). "
   ]
  },
  {
   "cell_type": "markdown",
   "metadata": {
    "deletable": false,
    "editable": false
   },
   "source": [
    "The below cell uses a SQL query to load the `taxi` table from `taxi.db` into a Pandas DataFrame called `all_taxi`. \n",
    "\n",
    "It only includes trips that have **both** pick-up and drop-off locations within the boundaries of New York City:\n",
    "\n",
    "- Longitude is between -74.03 and -73.75 (inclusive of both boundaries)\n",
    "- Latitude is between 40.6 and 40.88 (inclusive of both boundaries)\n",
    "\n",
    "You don't have to change anything, just run this cell.\n",
    "\n",
    "<!--\n",
    "BEGIN QUESTION\n",
    "name: q1a\n",
    "points: 2\n",
    "-->"
   ]
  },
  {
   "cell_type": "code",
   "execution_count": 3,
   "metadata": {
    "ExecuteTime": {
     "end_time": "2019-04-19T00:52:10.909745Z",
     "start_time": "2019-04-19T00:52:10.471335Z"
    }
   },
   "outputs": [
    {
     "data": {
      "text/html": [
       "<div>\n",
       "<style scoped>\n",
       "    .dataframe tbody tr th:only-of-type {\n",
       "        vertical-align: middle;\n",
       "    }\n",
       "\n",
       "    .dataframe tbody tr th {\n",
       "        vertical-align: top;\n",
       "    }\n",
       "\n",
       "    .dataframe thead th {\n",
       "        text-align: right;\n",
       "    }\n",
       "</style>\n",
       "<table border=\"1\" class=\"dataframe\">\n",
       "  <thead>\n",
       "    <tr style=\"text-align: right;\">\n",
       "      <th></th>\n",
       "      <th>pickup_datetime</th>\n",
       "      <th>dropoff_datetime</th>\n",
       "      <th>pickup_lon</th>\n",
       "      <th>pickup_lat</th>\n",
       "      <th>dropoff_lon</th>\n",
       "      <th>dropoff_lat</th>\n",
       "      <th>passengers</th>\n",
       "      <th>distance</th>\n",
       "      <th>duration</th>\n",
       "    </tr>\n",
       "  </thead>\n",
       "  <tbody>\n",
       "    <tr>\n",
       "      <td>0</td>\n",
       "      <td>2016-01-30 22:47:32</td>\n",
       "      <td>2016-01-30 23:03:53</td>\n",
       "      <td>-73.988251</td>\n",
       "      <td>40.743542</td>\n",
       "      <td>-74.015251</td>\n",
       "      <td>40.709808</td>\n",
       "      <td>1</td>\n",
       "      <td>3.99</td>\n",
       "      <td>981</td>\n",
       "    </tr>\n",
       "    <tr>\n",
       "      <td>1</td>\n",
       "      <td>2016-01-04 04:30:48</td>\n",
       "      <td>2016-01-04 04:36:08</td>\n",
       "      <td>-73.995888</td>\n",
       "      <td>40.760010</td>\n",
       "      <td>-73.975388</td>\n",
       "      <td>40.782200</td>\n",
       "      <td>1</td>\n",
       "      <td>2.03</td>\n",
       "      <td>320</td>\n",
       "    </tr>\n",
       "    <tr>\n",
       "      <td>2</td>\n",
       "      <td>2016-01-07 21:52:24</td>\n",
       "      <td>2016-01-07 21:57:23</td>\n",
       "      <td>-73.990440</td>\n",
       "      <td>40.730469</td>\n",
       "      <td>-73.985542</td>\n",
       "      <td>40.738510</td>\n",
       "      <td>1</td>\n",
       "      <td>0.70</td>\n",
       "      <td>299</td>\n",
       "    </tr>\n",
       "    <tr>\n",
       "      <td>3</td>\n",
       "      <td>2016-01-01 04:13:41</td>\n",
       "      <td>2016-01-01 04:19:24</td>\n",
       "      <td>-73.944725</td>\n",
       "      <td>40.714539</td>\n",
       "      <td>-73.955421</td>\n",
       "      <td>40.719173</td>\n",
       "      <td>1</td>\n",
       "      <td>0.80</td>\n",
       "      <td>343</td>\n",
       "    </tr>\n",
       "    <tr>\n",
       "      <td>4</td>\n",
       "      <td>2016-01-08 18:46:10</td>\n",
       "      <td>2016-01-08 18:54:00</td>\n",
       "      <td>-74.004494</td>\n",
       "      <td>40.706989</td>\n",
       "      <td>-74.010155</td>\n",
       "      <td>40.716751</td>\n",
       "      <td>5</td>\n",
       "      <td>0.97</td>\n",
       "      <td>470</td>\n",
       "    </tr>\n",
       "  </tbody>\n",
       "</table>\n",
       "</div>"
      ],
      "text/plain": [
       "       pickup_datetime     dropoff_datetime  pickup_lon  pickup_lat  \\\n",
       "0  2016-01-30 22:47:32  2016-01-30 23:03:53  -73.988251   40.743542   \n",
       "1  2016-01-04 04:30:48  2016-01-04 04:36:08  -73.995888   40.760010   \n",
       "2  2016-01-07 21:52:24  2016-01-07 21:57:23  -73.990440   40.730469   \n",
       "3  2016-01-01 04:13:41  2016-01-01 04:19:24  -73.944725   40.714539   \n",
       "4  2016-01-08 18:46:10  2016-01-08 18:54:00  -74.004494   40.706989   \n",
       "\n",
       "   dropoff_lon  dropoff_lat  passengers  distance  duration  \n",
       "0   -74.015251    40.709808           1      3.99       981  \n",
       "1   -73.975388    40.782200           1      2.03       320  \n",
       "2   -73.985542    40.738510           1      0.70       299  \n",
       "3   -73.955421    40.719173           1      0.80       343  \n",
       "4   -74.010155    40.716751           5      0.97       470  "
      ]
     },
     "execution_count": 3,
     "metadata": {},
     "output_type": "execute_result"
    }
   ],
   "source": [
    "import sqlite3\n",
    "\n",
    "conn = sqlite3.connect('taxi.db')\n",
    "lon_bounds = [-74.03, -73.75]\n",
    "lat_bounds = [40.6, 40.88]\n",
    "\n",
    "c = conn.cursor()\n",
    "\n",
    "my_string = 'SELECT * FROM taxi WHERE'\n",
    "\n",
    "for word in ['pickup_lat', 'AND dropoff_lat']:\n",
    "    my_string += ' {} BETWEEN {} AND {}'.format(word, lat_bounds[0], lat_bounds[1])\n",
    "    \n",
    "for word in ['AND pickup_lon', 'AND dropoff_lon']:\n",
    "    my_string += ' {} BETWEEN {} AND {}'.format(word, lon_bounds[0], lon_bounds[1])\n",
    "\n",
    "c.execute(my_string)\n",
    "\n",
    "results = c.fetchall()\n",
    "\n",
    "row_res = conn.execute('select * from taxi')\n",
    "names = list(map(lambda x: x[0], row_res.description))\n",
    "\n",
    "\n",
    "all_taxi = pd.DataFrame(results)\n",
    "all_taxi.columns = names\n",
    "all_taxi.head()"
   ]
  },
  {
   "cell_type": "markdown",
   "metadata": {},
   "source": [
    "A scatter plot of pickup locations shows that most of them are on the island of Manhattan. The empty white rectangle is Central Park; cars are not allowed there."
   ]
  },
  {
   "cell_type": "code",
   "execution_count": 4,
   "metadata": {
    "ExecuteTime": {
     "end_time": "2019-04-19T00:52:11.547807Z",
     "start_time": "2019-04-19T00:52:10.953752Z"
    }
   },
   "outputs": [
    {
     "data": {
      "image/png": "[encoded data removed]",
      "text/plain": [
       "<Figure size 576x576 with 1 Axes>"
      ]
     },
     "metadata": {
      "needs_background": "light"
     },
     "output_type": "display_data"
    }
   ],
   "source": [
    "def pickup_scatter(t):\n",
    "    plt.scatter(t['pickup_lon'], t['pickup_lat'], s=2, alpha=0.2)\n",
    "    plt.xlabel('Longitude')\n",
    "    plt.ylabel('Latitude')\n",
    "    plt.title('Pickup locations')\n",
    "    \n",
    "plt.figure(figsize=(8, 8))\n",
    "pickup_scatter(all_taxi)"
   ]
  },
  {
   "cell_type": "markdown",
   "metadata": {},
   "source": [
    "The two small blobs outside of Manhattan with very high concentrations of taxi pick-ups are airports."
   ]
  },
  {
   "cell_type": "markdown",
   "metadata": {
    "deletable": false,
    "editable": false
   },
   "source": [
    "### Question 1b\n",
    "\n",
    "Create a DataFrame called `clean_taxi` that only includes trips with a positive passenger count, a positive distance, a duration of at least 1 minute and at most 1 hour, and an average speed of at most 100 miles per hour. Inequalities should not be strict (e.g., `<=` instead of `<`) unless comparing to 0.\n",
    "\n",
    "*The provided tests check that you have constructed `clean_taxi` correctly.*\n",
    "\n",
    "<!--\n",
    "BEGIN QUESTION\n",
    "name: q1b\n",
    "points: 2\n",
    "-->"
   ]
  },
  {
   "cell_type": "code",
   "execution_count": 11,
   "metadata": {},
   "outputs": [
    {
     "data": {
      "text/html": [
       "<div>\n",
       "<style scoped>\n",
       "    .dataframe tbody tr th:only-of-type {\n",
       "        vertical-align: middle;\n",
       "    }\n",
       "\n",
       "    .dataframe tbody tr th {\n",
       "        vertical-align: top;\n",
       "    }\n",
       "\n",
       "    .dataframe thead th {\n",
       "        text-align: right;\n",
       "    }\n",
       "</style>\n",
       "<table border=\"1\" class=\"dataframe\">\n",
       "  <thead>\n",
       "    <tr style=\"text-align: right;\">\n",
       "      <th></th>\n",
       "      <th>pickup_datetime</th>\n",
       "      <th>dropoff_datetime</th>\n",
       "      <th>pickup_lon</th>\n",
       "      <th>pickup_lat</th>\n",
       "      <th>dropoff_lon</th>\n",
       "      <th>dropoff_lat</th>\n",
       "      <th>passengers</th>\n",
       "      <th>distance</th>\n",
       "      <th>duration</th>\n",
       "    </tr>\n",
       "  </thead>\n",
       "  <tbody>\n",
       "    <tr>\n",
       "      <td>0</td>\n",
       "      <td>2016-01-30 22:47:32</td>\n",
       "      <td>2016-01-30 23:03:53</td>\n",
       "      <td>-73.988251</td>\n",
       "      <td>40.743542</td>\n",
       "      <td>-74.015251</td>\n",
       "      <td>40.709808</td>\n",
       "      <td>1</td>\n",
       "      <td>3.99</td>\n",
       "      <td>981</td>\n",
       "    </tr>\n",
       "    <tr>\n",
       "      <td>1</td>\n",
       "      <td>2016-01-04 04:30:48</td>\n",
       "      <td>2016-01-04 04:36:08</td>\n",
       "      <td>-73.995888</td>\n",
       "      <td>40.760010</td>\n",
       "      <td>-73.975388</td>\n",
       "      <td>40.782200</td>\n",
       "      <td>1</td>\n",
       "      <td>2.03</td>\n",
       "      <td>320</td>\n",
       "    </tr>\n",
       "    <tr>\n",
       "      <td>2</td>\n",
       "      <td>2016-01-07 21:52:24</td>\n",
       "      <td>2016-01-07 21:57:23</td>\n",
       "      <td>-73.990440</td>\n",
       "      <td>40.730469</td>\n",
       "      <td>-73.985542</td>\n",
       "      <td>40.738510</td>\n",
       "      <td>1</td>\n",
       "      <td>0.70</td>\n",
       "      <td>299</td>\n",
       "    </tr>\n",
       "    <tr>\n",
       "      <td>3</td>\n",
       "      <td>2016-01-01 04:13:41</td>\n",
       "      <td>2016-01-01 04:19:24</td>\n",
       "      <td>-73.944725</td>\n",
       "      <td>40.714539</td>\n",
       "      <td>-73.955421</td>\n",
       "      <td>40.719173</td>\n",
       "      <td>1</td>\n",
       "      <td>0.80</td>\n",
       "      <td>343</td>\n",
       "    </tr>\n",
       "    <tr>\n",
       "      <td>4</td>\n",
       "      <td>2016-01-08 18:46:10</td>\n",
       "      <td>2016-01-08 18:54:00</td>\n",
       "      <td>-74.004494</td>\n",
       "      <td>40.706989</td>\n",
       "      <td>-74.010155</td>\n",
       "      <td>40.716751</td>\n",
       "      <td>5</td>\n",
       "      <td>0.97</td>\n",
       "      <td>470</td>\n",
       "    </tr>\n",
       "    <tr>\n",
       "      <td>...</td>\n",
       "      <td>...</td>\n",
       "      <td>...</td>\n",
       "      <td>...</td>\n",
       "      <td>...</td>\n",
       "      <td>...</td>\n",
       "      <td>...</td>\n",
       "      <td>...</td>\n",
       "      <td>...</td>\n",
       "      <td>...</td>\n",
       "    </tr>\n",
       "    <tr>\n",
       "      <td>97687</td>\n",
       "      <td>2016-01-31 02:59:16</td>\n",
       "      <td>2016-01-31 03:09:23</td>\n",
       "      <td>-73.997391</td>\n",
       "      <td>40.721027</td>\n",
       "      <td>-73.978447</td>\n",
       "      <td>40.745277</td>\n",
       "      <td>1</td>\n",
       "      <td>2.17</td>\n",
       "      <td>607</td>\n",
       "    </tr>\n",
       "    <tr>\n",
       "      <td>97688</td>\n",
       "      <td>2016-01-14 22:48:10</td>\n",
       "      <td>2016-01-14 22:51:27</td>\n",
       "      <td>-73.988037</td>\n",
       "      <td>40.718761</td>\n",
       "      <td>-73.983337</td>\n",
       "      <td>40.726162</td>\n",
       "      <td>1</td>\n",
       "      <td>0.60</td>\n",
       "      <td>197</td>\n",
       "    </tr>\n",
       "    <tr>\n",
       "      <td>97689</td>\n",
       "      <td>2016-01-08 04:46:37</td>\n",
       "      <td>2016-01-08 04:50:12</td>\n",
       "      <td>-73.984390</td>\n",
       "      <td>40.754978</td>\n",
       "      <td>-73.985909</td>\n",
       "      <td>40.751820</td>\n",
       "      <td>4</td>\n",
       "      <td>0.79</td>\n",
       "      <td>215</td>\n",
       "    </tr>\n",
       "    <tr>\n",
       "      <td>97690</td>\n",
       "      <td>2016-01-31 12:55:54</td>\n",
       "      <td>2016-01-31 13:01:07</td>\n",
       "      <td>-74.008675</td>\n",
       "      <td>40.725979</td>\n",
       "      <td>-74.009598</td>\n",
       "      <td>40.716003</td>\n",
       "      <td>1</td>\n",
       "      <td>0.85</td>\n",
       "      <td>313</td>\n",
       "    </tr>\n",
       "    <tr>\n",
       "      <td>97691</td>\n",
       "      <td>2016-01-05 08:28:16</td>\n",
       "      <td>2016-01-05 08:54:04</td>\n",
       "      <td>-73.968086</td>\n",
       "      <td>40.799915</td>\n",
       "      <td>-73.972290</td>\n",
       "      <td>40.765533</td>\n",
       "      <td>5</td>\n",
       "      <td>3.30</td>\n",
       "      <td>1548</td>\n",
       "    </tr>\n",
       "  </tbody>\n",
       "</table>\n",
       "<p>96445 rows × 9 columns</p>\n",
       "</div>"
      ],
      "text/plain": [
       "           pickup_datetime     dropoff_datetime  pickup_lon  pickup_lat  \\\n",
       "0      2016-01-30 22:47:32  2016-01-30 23:03:53  -73.988251   40.743542   \n",
       "1      2016-01-04 04:30:48  2016-01-04 04:36:08  -73.995888   40.760010   \n",
       "2      2016-01-07 21:52:24  2016-01-07 21:57:23  -73.990440   40.730469   \n",
       "3      2016-01-01 04:13:41  2016-01-01 04:19:24  -73.944725   40.714539   \n",
       "4      2016-01-08 18:46:10  2016-01-08 18:54:00  -74.004494   40.706989   \n",
       "...                    ...                  ...         ...         ...   \n",
       "97687  2016-01-31 02:59:16  2016-01-31 03:09:23  -73.997391   40.721027   \n",
       "97688  2016-01-14 22:48:10  2016-01-14 22:51:27  -73.988037   40.718761   \n",
       "97689  2016-01-08 04:46:37  2016-01-08 04:50:12  -73.984390   40.754978   \n",
       "97690  2016-01-31 12:55:54  2016-01-31 13:01:07  -74.008675   40.725979   \n",
       "97691  2016-01-05 08:28:16  2016-01-05 08:54:04  -73.968086   40.799915   \n",
       "\n",
       "       dropoff_lon  dropoff_lat  passengers  distance  duration  \n",
       "0       -74.015251    40.709808           1      3.99       981  \n",
       "1       -73.975388    40.782200           1      2.03       320  \n",
       "2       -73.985542    40.738510           1      0.70       299  \n",
       "3       -73.955421    40.719173           1      0.80       343  \n",
       "4       -74.010155    40.716751           5      0.97       470  \n",
       "...            ...          ...         ...       ...       ...  \n",
       "97687   -73.978447    40.745277           1      2.17       607  \n",
       "97688   -73.983337    40.726162           1      0.60       197  \n",
       "97689   -73.985909    40.751820           4      0.79       215  \n",
       "97690   -74.009598    40.716003           1      0.85       313  \n",
       "97691   -73.972290    40.765533           5      3.30      1548  \n",
       "\n",
       "[96445 rows x 9 columns]"
      ]
     },
     "execution_count": 11,
     "metadata": {},
     "output_type": "execute_result"
    }
   ],
   "source": [
    "clean_taxi = all_taxi[(all_taxi[\"passengers\"] > 0) & (all_taxi[\"distance\"] > 0.) \n",
    "                      & (all_taxi[\"duration\"] >= 60) & (all_taxi[\"duration\"] <= 3600)\n",
    "                      & ((all_taxi[\"distance\"] / (all_taxi[\"duration\"] / 3600)) <= 100)]\n",
    "clean_taxi\n",
    "#clean_taxi = ..."
   ]
  },
  {
   "cell_type": "code",
   "execution_count": 12,
   "metadata": {
    "deletable": false,
    "editable": false
   },
   "outputs": [
    {
     "name": "stdout",
     "output_type": "stream",
     "text": [
      "~~~~~~~~~~~~~~~~~~~~~~~~~~~~~~~~~~~~~~~~~~~~~~~~~~~~~~~~~~~~~~~~~~~~~\n",
      "Running tests\n",
      "\n",
      "---------------------------------------------------------------------\n",
      "Test summary\n",
      "    Passed: 2\n",
      "    Failed: 0\n",
      "[ooooooooook] 100.0% passed\n",
      "\n"
     ]
    }
   ],
   "source": [
    "ok.grade(\"q1b\");"
   ]
  },
  {
   "cell_type": "markdown",
   "metadata": {
    "deletable": false,
    "editable": false
   },
   "source": [
    "### Question 1c (challenging)\n",
    "\n",
    "Create a DataFrame called `manhattan_taxi` that only includes trips from `clean_taxi` that start and end within a polygon that defines the boundaries of [Manhattan Island](https://www.google.com/maps/place/Manhattan,+New+York,+NY/@40.7590402,-74.0394431,12z/data=!3m1!4b1!4m5!3m4!1s0x89c2588f046ee661:0xa0b3281fcecc08c!8m2!3d40.7830603!4d-73.9712488).\n",
    "\n",
    "The vertices of this polygon are defined in `manhattan.csv` as (latitude, longitude) pairs, which are [published here](https://gist.github.com/baygross/5430626).\n",
    "\n",
    "An efficient way to test if a point is contained within a polygon is [described on this page](http://alienryderflex.com/polygon/). There are even implementations on that page (though not in Python). Even with an efficient approach, the process of checking each point can take several minutes. It's best to test your work on a small sample of `clean_taxi` before processing the whole thing. (To check if your code is working, draw a scatter diagram of the (lon, lat) pairs of the result; the scatter diagram should have the shape of Manhattan.)\n",
    "\n",
    "*The provided tests check that you have constructed `manhattan_taxi` correctly. It's not required that you implement the `in_manhattan` helper function, but that's recommended. If you cannot solve this problem, you can still continue with the project; see the instructions below the answer cell.*\n",
    "\n",
    "<!--\n",
    "BEGIN QUESTION\n",
    "name: q1c\n",
    "points: 3\n",
    "-->"
   ]
  },
  {
   "cell_type": "code",
   "execution_count": 45,
   "metadata": {
    "ExecuteTime": {
     "end_time": "2019-04-19T00:52:11.844755Z",
     "start_time": "2019-04-19T00:52:11.626040Z"
    }
   },
   "outputs": [
    {
     "data": {
      "text/html": [
       "<div>\n",
       "<style scoped>\n",
       "    .dataframe tbody tr th:only-of-type {\n",
       "        vertical-align: middle;\n",
       "    }\n",
       "\n",
       "    .dataframe tbody tr th {\n",
       "        vertical-align: top;\n",
       "    }\n",
       "\n",
       "    .dataframe thead th {\n",
       "        text-align: right;\n",
       "    }\n",
       "</style>\n",
       "<table border=\"1\" class=\"dataframe\">\n",
       "  <thead>\n",
       "    <tr style=\"text-align: right;\">\n",
       "      <th></th>\n",
       "      <th>pickup_datetime</th>\n",
       "      <th>dropoff_datetime</th>\n",
       "      <th>pickup_lon</th>\n",
       "      <th>pickup_lat</th>\n",
       "      <th>dropoff_lon</th>\n",
       "      <th>dropoff_lat</th>\n",
       "      <th>passengers</th>\n",
       "      <th>distance</th>\n",
       "      <th>duration</th>\n",
       "    </tr>\n",
       "  </thead>\n",
       "  <tbody>\n",
       "    <tr>\n",
       "      <td>0</td>\n",
       "      <td>2016-01-30 22:47:32</td>\n",
       "      <td>2016-01-30 23:03:53</td>\n",
       "      <td>-73.988251</td>\n",
       "      <td>40.743542</td>\n",
       "      <td>-74.015251</td>\n",
       "      <td>40.709808</td>\n",
       "      <td>1</td>\n",
       "      <td>3.99</td>\n",
       "      <td>981</td>\n",
       "    </tr>\n",
       "    <tr>\n",
       "      <td>1</td>\n",
       "      <td>2016-01-04 04:30:48</td>\n",
       "      <td>2016-01-04 04:36:08</td>\n",
       "      <td>-73.995888</td>\n",
       "      <td>40.760010</td>\n",
       "      <td>-73.975388</td>\n",
       "      <td>40.782200</td>\n",
       "      <td>1</td>\n",
       "      <td>2.03</td>\n",
       "      <td>320</td>\n",
       "    </tr>\n",
       "    <tr>\n",
       "      <td>2</td>\n",
       "      <td>2016-01-07 21:52:24</td>\n",
       "      <td>2016-01-07 21:57:23</td>\n",
       "      <td>-73.990440</td>\n",
       "      <td>40.730469</td>\n",
       "      <td>-73.985542</td>\n",
       "      <td>40.738510</td>\n",
       "      <td>1</td>\n",
       "      <td>0.70</td>\n",
       "      <td>299</td>\n",
       "    </tr>\n",
       "    <tr>\n",
       "      <td>4</td>\n",
       "      <td>2016-01-08 18:46:10</td>\n",
       "      <td>2016-01-08 18:54:00</td>\n",
       "      <td>-74.004494</td>\n",
       "      <td>40.706989</td>\n",
       "      <td>-74.010155</td>\n",
       "      <td>40.716751</td>\n",
       "      <td>5</td>\n",
       "      <td>0.97</td>\n",
       "      <td>470</td>\n",
       "    </tr>\n",
       "    <tr>\n",
       "      <td>5</td>\n",
       "      <td>2016-01-02 12:39:57</td>\n",
       "      <td>2016-01-02 12:53:29</td>\n",
       "      <td>-73.958214</td>\n",
       "      <td>40.760525</td>\n",
       "      <td>-73.983360</td>\n",
       "      <td>40.760406</td>\n",
       "      <td>1</td>\n",
       "      <td>1.70</td>\n",
       "      <td>812</td>\n",
       "    </tr>\n",
       "    <tr>\n",
       "      <td>...</td>\n",
       "      <td>...</td>\n",
       "      <td>...</td>\n",
       "      <td>...</td>\n",
       "      <td>...</td>\n",
       "      <td>...</td>\n",
       "      <td>...</td>\n",
       "      <td>...</td>\n",
       "      <td>...</td>\n",
       "      <td>...</td>\n",
       "    </tr>\n",
       "    <tr>\n",
       "      <td>97687</td>\n",
       "      <td>2016-01-31 02:59:16</td>\n",
       "      <td>2016-01-31 03:09:23</td>\n",
       "      <td>-73.997391</td>\n",
       "      <td>40.721027</td>\n",
       "      <td>-73.978447</td>\n",
       "      <td>40.745277</td>\n",
       "      <td>1</td>\n",
       "      <td>2.17</td>\n",
       "      <td>607</td>\n",
       "    </tr>\n",
       "    <tr>\n",
       "      <td>97688</td>\n",
       "      <td>2016-01-14 22:48:10</td>\n",
       "      <td>2016-01-14 22:51:27</td>\n",
       "      <td>-73.988037</td>\n",
       "      <td>40.718761</td>\n",
       "      <td>-73.983337</td>\n",
       "      <td>40.726162</td>\n",
       "      <td>1</td>\n",
       "      <td>0.60</td>\n",
       "      <td>197</td>\n",
       "    </tr>\n",
       "    <tr>\n",
       "      <td>97689</td>\n",
       "      <td>2016-01-08 04:46:37</td>\n",
       "      <td>2016-01-08 04:50:12</td>\n",
       "      <td>-73.984390</td>\n",
       "      <td>40.754978</td>\n",
       "      <td>-73.985909</td>\n",
       "      <td>40.751820</td>\n",
       "      <td>4</td>\n",
       "      <td>0.79</td>\n",
       "      <td>215</td>\n",
       "    </tr>\n",
       "    <tr>\n",
       "      <td>97690</td>\n",
       "      <td>2016-01-31 12:55:54</td>\n",
       "      <td>2016-01-31 13:01:07</td>\n",
       "      <td>-74.008675</td>\n",
       "      <td>40.725979</td>\n",
       "      <td>-74.009598</td>\n",
       "      <td>40.716003</td>\n",
       "      <td>1</td>\n",
       "      <td>0.85</td>\n",
       "      <td>313</td>\n",
       "    </tr>\n",
       "    <tr>\n",
       "      <td>97691</td>\n",
       "      <td>2016-01-05 08:28:16</td>\n",
       "      <td>2016-01-05 08:54:04</td>\n",
       "      <td>-73.968086</td>\n",
       "      <td>40.799915</td>\n",
       "      <td>-73.972290</td>\n",
       "      <td>40.765533</td>\n",
       "      <td>5</td>\n",
       "      <td>3.30</td>\n",
       "      <td>1548</td>\n",
       "    </tr>\n",
       "  </tbody>\n",
       "</table>\n",
       "<p>82800 rows × 9 columns</p>\n",
       "</div>"
      ],
      "text/plain": [
       "           pickup_datetime     dropoff_datetime  pickup_lon  pickup_lat  \\\n",
       "0      2016-01-30 22:47:32  2016-01-30 23:03:53  -73.988251   40.743542   \n",
       "1      2016-01-04 04:30:48  2016-01-04 04:36:08  -73.995888   40.760010   \n",
       "2      2016-01-07 21:52:24  2016-01-07 21:57:23  -73.990440   40.730469   \n",
       "4      2016-01-08 18:46:10  2016-01-08 18:54:00  -74.004494   40.706989   \n",
       "5      2016-01-02 12:39:57  2016-01-02 12:53:29  -73.958214   40.760525   \n",
       "...                    ...                  ...         ...         ...   \n",
       "97687  2016-01-31 02:59:16  2016-01-31 03:09:23  -73.997391   40.721027   \n",
       "97688  2016-01-14 22:48:10  2016-01-14 22:51:27  -73.988037   40.718761   \n",
       "97689  2016-01-08 04:46:37  2016-01-08 04:50:12  -73.984390   40.754978   \n",
       "97690  2016-01-31 12:55:54  2016-01-31 13:01:07  -74.008675   40.725979   \n",
       "97691  2016-01-05 08:28:16  2016-01-05 08:54:04  -73.968086   40.799915   \n",
       "\n",
       "       dropoff_lon  dropoff_lat  passengers  distance  duration  \n",
       "0       -74.015251    40.709808           1      3.99       981  \n",
       "1       -73.975388    40.782200           1      2.03       320  \n",
       "2       -73.985542    40.738510           1      0.70       299  \n",
       "4       -74.010155    40.716751           5      0.97       470  \n",
       "5       -73.983360    40.760406           1      1.70       812  \n",
       "...            ...          ...         ...       ...       ...  \n",
       "97687   -73.978447    40.745277           1      2.17       607  \n",
       "97688   -73.983337    40.726162           1      0.60       197  \n",
       "97689   -73.985909    40.751820           4      0.79       215  \n",
       "97690   -74.009598    40.716003           1      0.85       313  \n",
       "97691   -73.972290    40.765533           5      3.30      1548  \n",
       "\n",
       "[82800 rows x 9 columns]"
      ]
     },
     "execution_count": 45,
     "metadata": {},
     "output_type": "execute_result"
    }
   ],
   "source": [
    "polygon = pd.read_csv('manhattan.csv')\n",
    "\n",
    "# Recommended: First develop and test a function that takes a position\n",
    "#              and returns whether it's in Manhattan.\n",
    "def in_manhattan(x, y):\n",
    "    \"\"\"Whether a longitude-latitude (x, y) pair is in the Manhattan polygon.\"\"\"\n",
    "    manhattan_Y = [\n",
    "        40.700292, \n",
    "        40.707580,\n",
    "        40.710443,\n",
    "        40.721762,\n",
    "        40.729568,\n",
    "        40.733503,\n",
    "        40.746834,\n",
    "        40.775114,\n",
    "        40.778884,\n",
    "        40.781906,\n",
    "        40.785351,\n",
    "        40.789640,\n",
    "        40.793149,\n",
    "        40.795228,\n",
    "        40.801141,\n",
    "        40.804877, \n",
    "        40.810496,\n",
    "        40.834074,\n",
    "        40.855371, \n",
    "        40.870690, \n",
    "        40.878348, \n",
    "        40.851151, \n",
    "        40.844074, \n",
    "        40.828229,\n",
    "        40.754019, \n",
    "        40.719941,\n",
    "        40.718575, \n",
    "        40.718802, \n",
    "        40.704977,\n",
    "        40.700553\n",
    "    ]\n",
    "    \n",
    "    manhattan_X = [\n",
    "        -74.010773,\n",
    "        -73.999271,\n",
    "        -73.978758,\n",
    "        -73.971977,\n",
    "        -73.971291,\n",
    "        -73.973994,\n",
    "        -73.968072,\n",
    "        -73.941936,\n",
    "        -73.942580,\n",
    "        -73.943589,\n",
    "        -73.939362,\n",
    "        -73.936272,\n",
    "        -73.932238,\n",
    "        -73.929491,\n",
    "        -73.928976,\n",
    "        -73.930907,\n",
    "        -73.934298,\n",
    "        -73.934383,\n",
    "        -73.922281,\n",
    "        -73.908892,\n",
    "        -73.928289,\n",
    "        -73.947258,\n",
    "        -73.947086,\n",
    "        -73.955498,\n",
    "        -74.008713,\n",
    "        -74.013863,\n",
    "        -74.013605,\n",
    "        -74.017038,\n",
    "        -74.020042,\n",
    "        -74.016438\n",
    "    ]\n",
    "    \n",
    "    j = len(manhattan_X) - 1\n",
    "    ret = False\n",
    "    for i in range(len(manhattan_X)):\n",
    "        if((manhattan_Y[i] < y and manhattan_Y[j] >= y) or (manhattan_Y[j] < y and manhattan_Y[i] >= y)):\n",
    "            if((manhattan_X[i] + (y - manhattan_Y[i]) / (manhattan_Y[j] - manhattan_Y[i]) * (manhattan_X[j] - manhattan_X[i])) \n",
    "               < x):\n",
    "                ret = not ret\n",
    "        j = i\n",
    "    \n",
    "    return ret\n",
    "    \n",
    "# Recommended: Then, apply this function to every trip to filter clean_taxi.\n",
    "mask = clean_taxi.apply(lambda x: in_manhattan(x[\"pickup_lon\"], x[\"pickup_lat\"]) & \n",
    "                                  in_manhattan(x[\"dropoff_lon\"], x[\"dropoff_lat\"]), axis=1)\n",
    "manhattan_taxi = clean_taxi[mask]\n",
    "manhattan_taxi"
   ]
  },
  {
   "cell_type": "code",
   "execution_count": 46,
   "metadata": {
    "deletable": false,
    "editable": false
   },
   "outputs": [
    {
     "name": "stdout",
     "output_type": "stream",
     "text": [
      "~~~~~~~~~~~~~~~~~~~~~~~~~~~~~~~~~~~~~~~~~~~~~~~~~~~~~~~~~~~~~~~~~~~~~\n",
      "Running tests\n",
      "\n",
      "---------------------------------------------------------------------\n",
      "Test summary\n",
      "    Passed: 3\n",
      "    Failed: 0\n",
      "[ooooooooook] 100.0% passed\n",
      "\n"
     ]
    }
   ],
   "source": [
    "ok.grade(\"q1c\");"
   ]
  },
  {
   "cell_type": "markdown",
   "metadata": {},
   "source": [
    "If you are unable to solve the problem above, have trouble with the tests, or want to work on the rest of the project before solving it, run the following cell to load the cleaned Manhattan data directly. (Note that you may not solve the previous problem just by loading this data file; you have to actually write the code.)"
   ]
  },
  {
   "cell_type": "code",
   "execution_count": 47,
   "metadata": {
    "ExecuteTime": {
     "end_time": "2019-04-19T00:52:12.133311Z",
     "start_time": "2019-04-19T00:52:11.924094Z"
    }
   },
   "outputs": [],
   "source": [
    "manhattan_taxi = pd.read_csv('manhattan_taxi.csv')"
   ]
  },
  {
   "cell_type": "markdown",
   "metadata": {},
   "source": [
    "A scatter diagram of only Manhattan taxi rides has the familiar shape of Manhattan Island. "
   ]
  },
  {
   "cell_type": "code",
   "execution_count": 48,
   "metadata": {
    "ExecuteTime": {
     "end_time": "2019-04-19T00:52:12.751632Z",
     "start_time": "2019-04-19T00:52:12.135205Z"
    }
   },
   "outputs": [
    {
     "data": {
      "image/png": "[encoded data removed]",
      "text/plain": [
       "<Figure size 576x1152 with 1 Axes>"
      ]
     },
     "metadata": {
      "needs_background": "light"
     },
     "output_type": "display_data"
    }
   ],
   "source": [
    "plt.figure(figsize=(8, 16))\n",
    "pickup_scatter(manhattan_taxi)"
   ]
  },
  {
   "cell_type": "markdown",
   "metadata": {
    "deletable": false,
    "editable": false
   },
   "source": [
    "### Question 1d\n",
    "\n",
    "Print a summary of the data selection and cleaning you performed. **Your Python code should not include any number literals, but instead should refer to the shape of `all_taxi`, `clean_taxi`, and `manhattan_taxi`**.\n",
    "\n",
    "E.g., you should print something like: \"Of the original 1000 trips, 21 anomalous trips (2.1%) were removed through data cleaning, and then the 600 trips within Manhattan were selected for further analysis.\"\n",
    "\n",
    "(Note that the numbers in the example above are not accurate.)\n",
    "\n",
    "One way to do this is with Python's f-strings. For instance,\n",
    "``` python\n",
    "name = \"Joshua\"\n",
    "print(f\"Hi {name}, how are you?\")\n",
    "```\n",
    "prints out `Hi Joshua, how are you?.`\n",
    "\n",
    "**Please ensure that your Python code does not contain any very long lines, or we can't grade it.**\n",
    "\n",
    "*Your response will be scored based on whether you generate an accurate description and do not include any number literals in your Python expression, but instead refer to the dataframes you have created.*\n",
    "\n",
    "<!--\n",
    "BEGIN QUESTION\n",
    "name: q1d\n",
    "points: 2\n",
    "manual: True\n",
    "-->\n",
    "<!-- EXPORT TO PDF -->"
   ]
  },
  {
   "cell_type": "code",
   "execution_count": 65,
   "metadata": {
    "ExecuteTime": {
     "end_time": "2019-04-19T00:52:12.760958Z",
     "start_time": "2019-04-19T00:52:12.754422Z"
    }
   },
   "outputs": [
    {
     "name": "stdout",
     "output_type": "stream",
     "text": [
      "Of the original 97692 trips, 1247 (1.276%) anomalous trips were removed through data cleaning, and 96445 trips were selected for further analysis. We removed data where the number of passengers was less than 1, the distance traveled was a negative value, the trip duration was shorter than 1 minute or longer than 1 hour, and the average speed of the whole trip was greater than 100 miles per hour.\n",
      "\n",
      "Of the original 97692 trips, 13645 (13.967%) more anomalous trips were removed through data cleaning, and 82800 trips were selected for further analysis. We removed data where either the pickup location or dropoff location was not in Manhattan.\n"
     ]
    }
   ],
   "source": [
    "original_len = len(all_taxi)\n",
    "cleaned_len = len(clean_taxi)\n",
    "manhat_len = len(manhattan_taxi)\n",
    "\n",
    "print(\"Of the original {} trips, {} ({}%) anomalous trips were removed through data cleaning, and {} trips were selected for \"\\\n",
    "      \"further analysis. We removed data where the number of passengers was less than 1, the distance traveled was a negative \"\\\n",
    "      \"value, the trip duration was shorter than 1 minute or longer than 1 hour, and the average speed of the whole trip was \"\\\n",
    "      \"greater than 100 miles per hour.\\n\".format(original_len, \n",
    "                                        original_len - cleaned_len, \n",
    "                                        round((original_len - cleaned_len) * 100 / original_len, 3), \n",
    "                                        cleaned_len))\n",
    "\n",
    "print(\"Of the original {} trips, {} ({}%) more anomalous trips were removed through data cleaning, and {} trips were selected \"\\\n",
    "      \"for further analysis. We removed data where either the pickup location or dropoff location was not in Manhattan.\"\n",
    "      .format(original_len, \n",
    "              cleaned_len - manhat_len, \n",
    "              round((cleaned_len - manhat_len) * 100 / original_len, 3), \n",
    "              manhat_len))"
   ]
  },
  {
   "cell_type": "markdown",
   "metadata": {},
   "source": [
    "## Part 2: Exploratory Data Analysis\n",
    "\n",
    "In this part, you'll choose which days to include as training data in your regression model. \n",
    "\n",
    "Your goal is to develop a general model that could potentially be used for future taxi rides. There is no guarantee that future distributions will resemble observed distributions, but some effort to limit training data to typical examples can help ensure that the training data are representative of future observations.\n",
    "\n",
    "January 2016 had some atypical days. New Year's Day (January 1) fell on a Friday. MLK Day was on Monday, January 18. A [historic blizzard](https://en.wikipedia.org/wiki/January_2016_United_States_blizzard) passed through New York that month. Using this dataset to train a general regression model for taxi trip times must account for these unusual phenomena, and one way to account for them is to remove atypical days from the training data."
   ]
  },
  {
   "cell_type": "markdown",
   "metadata": {
    "deletable": false,
    "editable": false
   },
   "source": [
    "### Question 2a\n",
    "\n",
    "Add a column labeled `date` to `manhattan_taxi` that contains the date (but not the time) of pickup, formatted as a `datetime.date` value ([docs](https://docs.python.org/3/library/datetime.html#date-objects)). \n",
    "\n",
    "*The provided tests check that you have extended `manhattan_taxi` correctly.*\n",
    "\n",
    "<!--\n",
    "BEGIN QUESTION\n",
    "name: q2a\n",
    "points: 1\n",
    "-->"
   ]
  },
  {
   "cell_type": "code",
   "execution_count": 122,
   "metadata": {
    "ExecuteTime": {
     "end_time": "2019-04-19T00:52:12.830375Z",
     "start_time": "2019-04-19T00:52:12.763854Z"
    }
   },
   "outputs": [
    {
     "data": {
      "text/html": [
       "<div>\n",
       "<style scoped>\n",
       "    .dataframe tbody tr th:only-of-type {\n",
       "        vertical-align: middle;\n",
       "    }\n",
       "\n",
       "    .dataframe tbody tr th {\n",
       "        vertical-align: top;\n",
       "    }\n",
       "\n",
       "    .dataframe thead th {\n",
       "        text-align: right;\n",
       "    }\n",
       "</style>\n",
       "<table border=\"1\" class=\"dataframe\">\n",
       "  <thead>\n",
       "    <tr style=\"text-align: right;\">\n",
       "      <th></th>\n",
       "      <th>pickup_datetime</th>\n",
       "      <th>dropoff_datetime</th>\n",
       "      <th>pickup_lon</th>\n",
       "      <th>pickup_lat</th>\n",
       "      <th>dropoff_lon</th>\n",
       "      <th>dropoff_lat</th>\n",
       "      <th>passengers</th>\n",
       "      <th>distance</th>\n",
       "      <th>duration</th>\n",
       "      <th>date</th>\n",
       "    </tr>\n",
       "  </thead>\n",
       "  <tbody>\n",
       "    <tr>\n",
       "      <td>9932</td>\n",
       "      <td>2016-01-01 23:59:34</td>\n",
       "      <td>2016-01-02 00:07:38</td>\n",
       "      <td>-73.977379</td>\n",
       "      <td>40.742680</td>\n",
       "      <td>-74.002441</td>\n",
       "      <td>40.728291</td>\n",
       "      <td>1</td>\n",
       "      <td>2.21</td>\n",
       "      <td>484</td>\n",
       "      <td>2016-01-30</td>\n",
       "    </tr>\n",
       "    <tr>\n",
       "      <td>65318</td>\n",
       "      <td>2016-01-01 19:28:55</td>\n",
       "      <td>2016-01-01 19:31:53</td>\n",
       "      <td>-74.003403</td>\n",
       "      <td>40.732464</td>\n",
       "      <td>-74.003502</td>\n",
       "      <td>40.723663</td>\n",
       "      <td>1</td>\n",
       "      <td>0.70</td>\n",
       "      <td>178</td>\n",
       "      <td>2016-01-04</td>\n",
       "    </tr>\n",
       "    <tr>\n",
       "      <td>63213</td>\n",
       "      <td>2016-01-01 00:14:47</td>\n",
       "      <td>2016-01-01 00:25:15</td>\n",
       "      <td>-73.974815</td>\n",
       "      <td>40.757271</td>\n",
       "      <td>-73.978790</td>\n",
       "      <td>40.726311</td>\n",
       "      <td>2</td>\n",
       "      <td>2.87</td>\n",
       "      <td>628</td>\n",
       "      <td>2016-01-07</td>\n",
       "    </tr>\n",
       "    <tr>\n",
       "      <td>79732</td>\n",
       "      <td>2016-01-01 08:28:37</td>\n",
       "      <td>2016-01-01 08:42:17</td>\n",
       "      <td>-73.976868</td>\n",
       "      <td>40.790501</td>\n",
       "      <td>-73.975677</td>\n",
       "      <td>40.752586</td>\n",
       "      <td>1</td>\n",
       "      <td>3.30</td>\n",
       "      <td>820</td>\n",
       "      <td>2016-01-08</td>\n",
       "    </tr>\n",
       "    <tr>\n",
       "      <td>56882</td>\n",
       "      <td>2016-01-01 01:45:40</td>\n",
       "      <td>2016-01-01 01:53:48</td>\n",
       "      <td>-74.008736</td>\n",
       "      <td>40.738312</td>\n",
       "      <td>-74.003540</td>\n",
       "      <td>40.732075</td>\n",
       "      <td>1</td>\n",
       "      <td>0.90</td>\n",
       "      <td>488</td>\n",
       "      <td>2016-01-02</td>\n",
       "    </tr>\n",
       "  </tbody>\n",
       "</table>\n",
       "</div>"
      ],
      "text/plain": [
       "           pickup_datetime     dropoff_datetime  pickup_lon  pickup_lat  \\\n",
       "9932   2016-01-01 23:59:34  2016-01-02 00:07:38  -73.977379   40.742680   \n",
       "65318  2016-01-01 19:28:55  2016-01-01 19:31:53  -74.003403   40.732464   \n",
       "63213  2016-01-01 00:14:47  2016-01-01 00:25:15  -73.974815   40.757271   \n",
       "79732  2016-01-01 08:28:37  2016-01-01 08:42:17  -73.976868   40.790501   \n",
       "56882  2016-01-01 01:45:40  2016-01-01 01:53:48  -74.008736   40.738312   \n",
       "\n",
       "       dropoff_lon  dropoff_lat  passengers  distance  duration        date  \n",
       "9932    -74.002441    40.728291           1      2.21       484  2016-01-30  \n",
       "65318   -74.003502    40.723663           1      0.70       178  2016-01-04  \n",
       "63213   -73.978790    40.726311           2      2.87       628  2016-01-07  \n",
       "79732   -73.975677    40.752586           1      3.30       820  2016-01-08  \n",
       "56882   -74.003540    40.732075           1      0.90       488  2016-01-02  "
      ]
     },
     "execution_count": 122,
     "metadata": {},
     "output_type": "execute_result"
    }
   ],
   "source": [
    "import datetime\n",
    "\n",
    "years = manhattan_taxi[\"pickup_datetime\"].str[0:4]\n",
    "months = manhattan_taxi[\"pickup_datetime\"].str[5:7]\n",
    "days = manhattan_taxi[\"pickup_datetime\"].str[8:10]\n",
    "\n",
    "date = []\n",
    "for i in range(len(years)):\n",
    "    date.append(datetime.date(int(years[i]), int(months[i]), int(days[i])))\n",
    "\n",
    "manhattan_taxi[\"date\"] = np.array(date)\n",
    "manhattan_taxi.head()"
   ]
  },
  {
   "cell_type": "code",
   "execution_count": 123,
   "metadata": {
    "deletable": false,
    "editable": false
   },
   "outputs": [
    {
     "name": "stdout",
     "output_type": "stream",
     "text": [
      "~~~~~~~~~~~~~~~~~~~~~~~~~~~~~~~~~~~~~~~~~~~~~~~~~~~~~~~~~~~~~~~~~~~~~\n",
      "Running tests\n",
      "\n",
      "---------------------------------------------------------------------\n",
      "Test summary\n",
      "    Passed: 2\n",
      "    Failed: 0\n",
      "[ooooooooook] 100.0% passed\n",
      "\n"
     ]
    }
   ],
   "source": [
    "ok.grade(\"q2a\");"
   ]
  },
  {
   "cell_type": "markdown",
   "metadata": {
    "deletable": false,
    "editable": false
   },
   "source": [
    "### Question 2b\n",
    "\n",
    "Create a data visualization that allows you to identify which dates were affected by the historic blizzard of January 2016. Make sure that the visualization type is appropriate for the visualized data.\n",
    "\n",
    "As a hint, consider how taxi usage might change on a day with a blizzard. How could you visualize/plot this?\n",
    "\n",
    "<!--\n",
    "BEGIN QUESTION\n",
    "name: q2b\n",
    "points: 2\n",
    "manual: True\n",
    "format: image\n",
    "-->\n",
    "<!-- EXPORT TO PDF -->"
   ]
  },
  {
   "cell_type": "code",
   "execution_count": 165,
   "metadata": {
    "ExecuteTime": {
     "end_time": "2019-04-19T00:52:13.183376Z",
     "start_time": "2019-04-19T00:52:12.877540Z"
    }
   },
   "outputs": [
    {
     "data": {
      "text/plain": [
       "Text(0.5, 1.0, 'Number of Taxi Rides in Manhattan per Day in January 2016')"
      ]
     },
     "execution_count": 165,
     "metadata": {},
     "output_type": "execute_result"
    },
    {
     "data": {
      "image/png": "[encoded data removed]",
      "text/plain": [
       "<Figure size 432x288 with 1 Axes>"
      ]
     },
     "metadata": {
      "needs_background": "light"
     },
     "output_type": "display_data"
    }
   ],
   "source": [
    "counts_per_day = pd.value_counts(manhattan_taxi[\"date\"]).to_frame()\n",
    "counts_per_day.reset_index(inplace=True)\n",
    "counts_per_day.rename(columns={\"index\": \"date\", \"date\": \"count\"}, inplace=True)\n",
    "dates = counts_per_day[\"date\"]\n",
    "\n",
    "days = []\n",
    "for i in range(len(dates)):\n",
    "    days.append(dates[i].day)\n",
    "\n",
    "counts_per_day[\"day\"] = days\n",
    "counts_per_day.sort_values(by=\"day\", inplace=True)\n",
    "counts_per_day.plot.bar(x=\"date\", y=\"count\")\n",
    "plt.xlabel(\"Date\")\n",
    "plt.ylabel(\"Number of Taxi Rides\")\n",
    "plt.title(\"Number of Taxi Rides in Manhattan per Day in January 2016\")"
   ]
  },
  {
   "cell_type": "markdown",
   "metadata": {},
   "source": [
    "Finally, we have generated a list of dates that should have a fairly typical distribution of taxi rides, which excludes holidays and blizzards. The cell below assigns `final_taxi` to the subset of `manhattan_taxi` that is on these days. (No changes are needed; just run this cell.)"
   ]
  },
  {
   "cell_type": "code",
   "execution_count": 166,
   "metadata": {
    "ExecuteTime": {
     "end_time": "2019-04-19T00:52:13.198633Z",
     "start_time": "2019-04-19T00:52:13.185336Z"
    }
   },
   "outputs": [
    {
     "name": "stdout",
     "output_type": "stream",
     "text": [
      "Typical dates:\n",
      "\n",
      "    January 2016\n",
      "Mo Tu We Th Fr Sa Su\n",
      "                    \n",
      " 4  5  6  7  8  9 10\n",
      "11 12 13 14 15 16 17\n",
      "   19 20 21 22      \n",
      "      27 28 29 30 31\n",
      "\n"
     ]
    }
   ],
   "source": [
    "import calendar\n",
    "import re\n",
    "\n",
    "from datetime import date\n",
    "\n",
    "atypical = [1, 2, 3, 18, 23, 24, 25, 26]\n",
    "typical_dates = [date(2016, 1, n) for n in range(1, 32) if n not in atypical]\n",
    "typical_dates\n",
    "\n",
    "print('Typical dates:\\n')\n",
    "pat = '  [1-3]|18 | 23| 24|25 |26 '\n",
    "print(re.sub(pat, '   ', calendar.month(2016, 1)))\n",
    "\n",
    "final_taxi = manhattan_taxi[manhattan_taxi['date'].isin(typical_dates)]"
   ]
  },
  {
   "cell_type": "markdown",
   "metadata": {},
   "source": [
    "You are welcome to perform more exploratory data analysis, but your work will not be scored. Here's a blank cell to use if you wish. In practice, further exploration would be warranted at this point, but the project is already pretty long."
   ]
  },
  {
   "cell_type": "code",
   "execution_count": null,
   "metadata": {
    "ExecuteTime": {
     "end_time": "2019-04-19T00:52:13.211604Z",
     "start_time": "2019-04-19T00:52:13.201202Z"
    }
   },
   "outputs": [],
   "source": [
    "# Optional: More EDA here"
   ]
  },
  {
   "cell_type": "markdown",
   "metadata": {},
   "source": [
    "## Part 3: Feature Engineering\n",
    "\n",
    "In this part, you'll create a design matrix (i.e., feature matrix) for your linear regression model. This is analagous to the pipelines you've built already in class: you'll be adding features, removing labels, and scaling among other things.\n",
    "\n",
    "You decide to predict trip duration from the following inputs: start location, end location, trip distance, time of day, and day of the week (*Monday, Tuesday, etc.*).\n",
    "\n",
    "You will ensure that the process of transforming observations into a design matrix is expressed as a Python function called `design_matrix`, so that it's easy to make predictions for different samples in later parts of the project.\n",
    "\n",
    "Because you are going to look at the data in detail in order to define features, it's best to split the data into training and test sets now, then only inspect the training set."
   ]
  },
  {
   "cell_type": "code",
   "execution_count": 167,
   "metadata": {
    "ExecuteTime": {
     "end_time": "2019-04-19T00:52:13.384636Z",
     "start_time": "2019-04-19T00:52:13.213804Z"
    }
   },
   "outputs": [
    {
     "name": "stdout",
     "output_type": "stream",
     "text": [
      "Train: (53680, 10) Test: (13421, 10)\n"
     ]
    }
   ],
   "source": [
    "import sklearn.model_selection\n",
    "\n",
    "train, test = sklearn.model_selection.train_test_split(\n",
    "    final_taxi, train_size=0.8, test_size=0.2, random_state=42)\n",
    "print('Train:', train.shape, 'Test:', test.shape)"
   ]
  },
  {
   "cell_type": "markdown",
   "metadata": {
    "deletable": false,
    "editable": false
   },
   "source": [
    "### Question 3a\n",
    "\n",
    "Create a box plot that compares the distributions of taxi trip durations for each day **using `train` only**. Individual dates shoud appear on the horizontal axis, and duration values should appear on the vertical axis. Your plot should look like the one below.\n",
    "\n",
    "You can generate this type of plot using `sns.boxplot`\n",
    "\n",
    "![](images/3a_duration_by_date.png)\n",
    "\n",
    "\n",
    "<!--\n",
    "BEGIN QUESTION\n",
    "name: q3a\n",
    "points: 2\n",
    "manual: True\n",
    "format: image\n",
    "-->\n",
    "<!-- EXPORT TO PDF -->"
   ]
  },
  {
   "cell_type": "code",
   "execution_count": 174,
   "metadata": {
    "ExecuteTime": {
     "end_time": "2019-04-19T00:52:13.970113Z",
     "start_time": "2019-04-19T00:52:13.386332Z"
    }
   },
   "outputs": [
    {
     "data": {
      "text/plain": [
       "<Figure size 1152x864 with 0 Axes>"
      ]
     },
     "execution_count": 174,
     "metadata": {},
     "output_type": "execute_result"
    },
    {
     "data": {
      "image/png": "[encoded data removed]",
      "text/plain": [
       "<Figure size 432x288 with 1 Axes>"
      ]
     },
     "metadata": {
      "needs_background": "light"
     },
     "output_type": "display_data"
    },
    {
     "data": {
      "text/plain": [
       "<Figure size 1152x864 with 0 Axes>"
      ]
     },
     "metadata": {},
     "output_type": "display_data"
    }
   ],
   "source": [
    "boxplot = sns.boxplot(x=\"date\", y=\"duration\", data=manhattan_taxi)\n",
    "boxplot.set_xticklabels(boxplot.get_xticklabels(), rotation=90)\n",
    "plt.title(\"Duration of Manhattan Taxi Trips by Date\")"
   ]
  },
  {
   "cell_type": "markdown",
   "metadata": {
    "deletable": false,
    "editable": false
   },
   "source": [
    "### Question 3b\n",
    "\n",
    "In one or two sentences, describe the assocation between the day of the week and the duration of a taxi trip. Your answer should be supported by your boxplot above.\n",
    "\n",
    "*Note*: The end of Part 2 showed a calendar for these dates and their corresponding days of the week.\n",
    "\n",
    "<!--\n",
    "BEGIN QUESTION\n",
    "name: q3b\n",
    "points: 1\n",
    "manual: True\n",
    "-->\n",
    "<!-- EXPORT TO PDF -->"
   ]
  },
  {
   "cell_type": "markdown",
   "metadata": {},
   "source": [
    "It seems like there is a slightly higher variance of trip duration towards the end of the week. This is probably because more people are trying to travel home at the end of the week, thus inducing more traffic and higher trip durations."
   ]
  },
  {
   "cell_type": "markdown",
   "metadata": {},
   "source": [
    "Below, the provided `augment` function adds various columns to a taxi ride dataframe. \n",
    "\n",
    "- `hour`: The integer hour of the pickup time. E.g., a 3:45pm taxi ride would have `15` as the hour. A 12:20am ride would have `0`.\n",
    "- `day`: The day of the week with Monday=0, Sunday=6.\n",
    "- `weekend`: 1 if and only if the `day` is Saturday or Sunday.\n",
    "- `period`: 1 for early morning (12am-6am), 2 for daytime (6am-6pm), and 3 for night (6pm-12pm).\n",
    "- `speed`: Average speed in miles per hour.\n",
    "\n",
    "No changes are required; just run this cell."
   ]
  },
  {
   "cell_type": "code",
   "execution_count": 175,
   "metadata": {
    "ExecuteTime": {
     "end_time": "2019-04-19T00:52:14.045907Z",
     "start_time": "2019-04-19T00:52:13.972137Z"
    }
   },
   "outputs": [
    {
     "data": {
      "text/plain": [
       "pickup_datetime     2016-01-01 08:35:54\n",
       "dropoff_datetime    2016-01-01 08:41:25\n",
       "pickup_lon                      -73.987\n",
       "pickup_lat                      40.7396\n",
       "dropoff_lon                    -73.9934\n",
       "dropoff_lat                     40.7514\n",
       "passengers                            1\n",
       "distance                           1.24\n",
       "duration                            331\n",
       "date                         2016-01-08\n",
       "hour                                  8\n",
       "day                                   4\n",
       "weekend                               0\n",
       "period                                2\n",
       "speed                           13.4864\n",
       "Name: 32546, dtype: object"
      ]
     },
     "execution_count": 175,
     "metadata": {},
     "output_type": "execute_result"
    }
   ],
   "source": [
    "def speed(t):\n",
    "    \"\"\"Return a column of speeds in miles per hour.\"\"\"\n",
    "    return t['distance'] / t['duration'] * 60 * 60\n",
    "\n",
    "def augment(t):\n",
    "    \"\"\"Augment a dataframe t with additional columns.\"\"\"\n",
    "    u = t.copy()\n",
    "    pickup_time = pd.to_datetime(t['pickup_datetime'])\n",
    "    u.loc[:, 'hour'] = pickup_time.dt.hour\n",
    "    u.loc[:, 'day'] = pickup_time.dt.weekday\n",
    "    u.loc[:, 'weekend'] = (pickup_time.dt.weekday >= 5).astype(int)\n",
    "    u.loc[:, 'period'] = np.digitize(pickup_time.dt.hour, [0, 6, 18])\n",
    "    u.loc[:, 'speed'] = speed(t)\n",
    "    return u\n",
    "    \n",
    "train = augment(train)\n",
    "test = augment(test)\n",
    "train.iloc[0,:] # An example row"
   ]
  },
  {
   "cell_type": "markdown",
   "metadata": {
    "deletable": false,
    "editable": false
   },
   "source": [
    "### Question 3c\n",
    "\n",
    "Use `sns.distplot` to create an overlaid histogram comparing the distribution of average speeds for taxi rides that start in the early morning (12am-6am), day (6am-6pm; 12 hours), and night (6pm-12am; 6 hours). Your plot should look like this:\n",
    "\n",
    "![](images/3c_speeds.png)\n",
    "\n",
    "<!--\n",
    "BEGIN QUESTION\n",
    "name: q3c\n",
    "points: 2\n",
    "manual: True\n",
    "format: image\n",
    "-->\n",
    "<!-- EXPORT TO PDF -->"
   ]
  },
  {
   "cell_type": "code",
   "execution_count": 194,
   "metadata": {
    "ExecuteTime": {
     "end_time": "2019-04-19T00:52:14.461519Z",
     "start_time": "2019-04-19T00:52:14.047850Z"
    }
   },
   "outputs": [
    {
     "data": {
      "text/plain": [
       "<matplotlib.legend.Legend at 0x299725d60c8>"
      ]
     },
     "execution_count": 194,
     "metadata": {},
     "output_type": "execute_result"
    },
    {
     "data": {
      "image/png": "[encoded data removed]",
      "text/plain": [
       "<Figure size 432x288 with 1 Axes>"
      ]
     },
     "metadata": {
      "needs_background": "light"
     },
     "output_type": "display_data"
    }
   ],
   "source": [
    "target_1 = train[train[\"period\"] == 1]\n",
    "target_2 = train[train[\"period\"] == 2]\n",
    "target_3 = train[train[\"period\"] == 3]\n",
    "sns.distplot(target_1[[\"speed\"]], kde_kws={\"shade\": True}, label=\"Early Morning\")\n",
    "sns.distplot(target_2[[\"speed\"]], kde_kws={\"shade\": True}, label=\"Day\")\n",
    "sns.distplot(target_3[[\"speed\"]], kde_kws={\"shade\": True}, label=\"Night\")\n",
    "plt.xlabel(\"speed\")\n",
    "plt.legend()"
   ]
  },
  {
   "cell_type": "markdown",
   "metadata": {},
   "source": [
    "It looks like the time of day is associated with the average speed of a taxi ride."
   ]
  },
  {
   "cell_type": "markdown",
   "metadata": {
    "deletable": false
   },
   "source": [
    "### Question 3d\n",
    "\n",
    "Manhattan can roughly be divided into Lower, Midtown, and Upper regions. Instead of studying a map, let's approximate by finding the first principal component of the pick-up location (latitude and longitude). \n",
    "\n",
    "[Principal component analysis](https://en.wikipedia.org/wiki/Principal_component_analysis) (PCA) is a technique that finds new axes as linear combinations of your current axes. These axes are found such that the first returned axis (the first principal component) explains the most variation in values, the 2nd the second most, etc.\n",
    "\n",
    "Add a `region` column to `train` that categorizes each pick-up location as 0, 1, or 2 based on the value of each point's first principal component, such that an equal number of points fall into each region. \n",
    "\n",
    "Read the documentation of [`pd.qcut`](https://pandas.pydata.org/pandas-docs/version/0.23.4/generated/pandas.qcut.html), which categorizes points in a distribution into equal-frequency bins.\n",
    "\n",
    "You don't need to add any lines to this solution. Just fill in the assignment statements to complete the implementation.\n",
    "\n",
    "Before implementing PCA, it is important to scale and shift your values. The line with `np.linalg.svd` will return your transformation matrix, among other things. You can then use this matrix to convert points in (lat, lon) space into (PC1, PC2) space.\n",
    "\n",
    "*The provided tests ensure that you have answered the question correctly.*\n",
    "\n",
    "<!--\n",
    "BEGIN QUESTION\n",
    "name: q3d\n",
    "points: 2\n",
    "-->"
   ]
  },
  {
   "cell_type": "code",
   "execution_count": 234,
   "metadata": {
    "ExecuteTime": {
     "end_time": "2019-04-19T00:52:14.501937Z",
     "start_time": "2019-04-19T00:52:14.463641Z"
    }
   },
   "outputs": [],
   "source": [
    "# Find the first principle component\n",
    "D = train[[\"pickup_lon\", \"pickup_lat\"]]\n",
    "pca_n = len(train)\n",
    "pca_means = D.mean(axis=0)\n",
    "X = (D - pca_means) / np.sqrt(pca_n)\n",
    "u, s, vt = np.linalg.svd(X, full_matrices=False)\n",
    "\n",
    "def add_region(t):\n",
    "    \"\"\"Add a region column to t based on vt above.\"\"\"\n",
    "    D = t[['pickup_lon', 'pickup_lat']]\n",
    "    assert D.shape[0] == t.shape[0], 'You set D using the incorrect table'\n",
    "    # Always use the same data transformation used to compute vt\n",
    "    X = (D - pca_means) / np.sqrt(pca_n) \n",
    "    first_pc = (X[\"pickup_lon\"] * vt[0][0]) + (X[\"pickup_lat\"] * vt[0][1])\n",
    "    t.loc[:,'region'] = pd.qcut(first_pc, 3, labels=[0, 1, 2])\n",
    "    \n",
    "add_region(train)\n",
    "add_region(test)"
   ]
  },
  {
   "cell_type": "code",
   "execution_count": 235,
   "metadata": {
    "deletable": false,
    "editable": false
   },
   "outputs": [
    {
     "name": "stdout",
     "output_type": "stream",
     "text": [
      "~~~~~~~~~~~~~~~~~~~~~~~~~~~~~~~~~~~~~~~~~~~~~~~~~~~~~~~~~~~~~~~~~~~~~\n",
      "Running tests\n",
      "\n",
      "---------------------------------------------------------------------\n",
      "q3d > Suite 1 > Case 1\n",
      "\n",
      ">>> np.isclose(s[0], 0.02514825, 1e-3)\n",
      "False\n",
      "\n",
      "# Error: expected\n",
      "#     True\n",
      "# but got\n",
      "#     False\n",
      "\n",
      "Run only this test case with \"python3 ok -q q3d --suite 1 --case 1\"\n",
      "---------------------------------------------------------------------\n",
      "Test summary\n",
      "    Passed: 0\n",
      "    Failed: 1\n",
      "[k..........] 0.0% passed\n",
      "\n"
     ]
    }
   ],
   "source": [
    "ok.grade(\"q3d\");"
   ]
  },
  {
   "cell_type": "code",
   "execution_count": 238,
   "metadata": {},
   "outputs": [
    {
     "data": {
      "text/html": [
       "<div>\n",
       "<style scoped>\n",
       "    .dataframe tbody tr th:only-of-type {\n",
       "        vertical-align: middle;\n",
       "    }\n",
       "\n",
       "    .dataframe tbody tr th {\n",
       "        vertical-align: top;\n",
       "    }\n",
       "\n",
       "    .dataframe thead th {\n",
       "        text-align: right;\n",
       "    }\n",
       "</style>\n",
       "<table border=\"1\" class=\"dataframe\">\n",
       "  <thead>\n",
       "    <tr style=\"text-align: right;\">\n",
       "      <th></th>\n",
       "      <th>pickup_datetime</th>\n",
       "      <th>dropoff_datetime</th>\n",
       "      <th>pickup_lon</th>\n",
       "      <th>pickup_lat</th>\n",
       "      <th>dropoff_lon</th>\n",
       "      <th>dropoff_lat</th>\n",
       "      <th>passengers</th>\n",
       "      <th>distance</th>\n",
       "      <th>duration</th>\n",
       "      <th>date</th>\n",
       "      <th>hour</th>\n",
       "      <th>day</th>\n",
       "      <th>weekend</th>\n",
       "      <th>period</th>\n",
       "      <th>speed</th>\n",
       "      <th>region</th>\n",
       "    </tr>\n",
       "  </thead>\n",
       "  <tbody>\n",
       "    <tr>\n",
       "      <td>73288</td>\n",
       "      <td>2016-01-30 21:27:30</td>\n",
       "      <td>2016-01-30 21:33:17</td>\n",
       "      <td>-73.981812</td>\n",
       "      <td>40.762707</td>\n",
       "      <td>-73.991264</td>\n",
       "      <td>40.765255</td>\n",
       "      <td>1</td>\n",
       "      <td>0.50</td>\n",
       "      <td>347</td>\n",
       "      <td>2016-01-28</td>\n",
       "      <td>21</td>\n",
       "      <td>5</td>\n",
       "      <td>1</td>\n",
       "      <td>3</td>\n",
       "      <td>5.187320</td>\n",
       "      <td>1</td>\n",
       "    </tr>\n",
       "    <tr>\n",
       "      <td>26780</td>\n",
       "      <td>2016-01-30 22:31:23</td>\n",
       "      <td>2016-01-30 22:54:06</td>\n",
       "      <td>-73.991180</td>\n",
       "      <td>40.744499</td>\n",
       "      <td>-73.993317</td>\n",
       "      <td>40.715672</td>\n",
       "      <td>1</td>\n",
       "      <td>3.68</td>\n",
       "      <td>1363</td>\n",
       "      <td>2016-01-07</td>\n",
       "      <td>22</td>\n",
       "      <td>5</td>\n",
       "      <td>1</td>\n",
       "      <td>3</td>\n",
       "      <td>9.719736</td>\n",
       "      <td>0</td>\n",
       "    </tr>\n",
       "    <tr>\n",
       "      <td>3677</td>\n",
       "      <td>2016-01-26 06:15:02</td>\n",
       "      <td>2016-01-26 06:24:19</td>\n",
       "      <td>-74.004410</td>\n",
       "      <td>40.730579</td>\n",
       "      <td>-74.010300</td>\n",
       "      <td>40.709057</td>\n",
       "      <td>1</td>\n",
       "      <td>1.70</td>\n",
       "      <td>557</td>\n",
       "      <td>2016-01-31</td>\n",
       "      <td>6</td>\n",
       "      <td>1</td>\n",
       "      <td>0</td>\n",
       "      <td>2</td>\n",
       "      <td>10.987433</td>\n",
       "      <td>0</td>\n",
       "    </tr>\n",
       "    <tr>\n",
       "      <td>27080</td>\n",
       "      <td>2016-01-19 08:19:25</td>\n",
       "      <td>2016-01-19 08:31:36</td>\n",
       "      <td>-73.981705</td>\n",
       "      <td>40.736736</td>\n",
       "      <td>-74.001122</td>\n",
       "      <td>40.731564</td>\n",
       "      <td>1</td>\n",
       "      <td>1.70</td>\n",
       "      <td>731</td>\n",
       "      <td>2016-01-29</td>\n",
       "      <td>8</td>\n",
       "      <td>1</td>\n",
       "      <td>0</td>\n",
       "      <td>2</td>\n",
       "      <td>8.372093</td>\n",
       "      <td>0</td>\n",
       "    </tr>\n",
       "    <tr>\n",
       "      <td>78970</td>\n",
       "      <td>2016-01-27 18:31:17</td>\n",
       "      <td>2016-01-27 18:42:45</td>\n",
       "      <td>-73.976456</td>\n",
       "      <td>40.788666</td>\n",
       "      <td>-73.957535</td>\n",
       "      <td>40.776848</td>\n",
       "      <td>1</td>\n",
       "      <td>1.60</td>\n",
       "      <td>688</td>\n",
       "      <td>2016-01-06</td>\n",
       "      <td>18</td>\n",
       "      <td>2</td>\n",
       "      <td>0</td>\n",
       "      <td>3</td>\n",
       "      <td>8.372093</td>\n",
       "      <td>2</td>\n",
       "    </tr>\n",
       "    <tr>\n",
       "      <td>...</td>\n",
       "      <td>...</td>\n",
       "      <td>...</td>\n",
       "      <td>...</td>\n",
       "      <td>...</td>\n",
       "      <td>...</td>\n",
       "      <td>...</td>\n",
       "      <td>...</td>\n",
       "      <td>...</td>\n",
       "      <td>...</td>\n",
       "      <td>...</td>\n",
       "      <td>...</td>\n",
       "      <td>...</td>\n",
       "      <td>...</td>\n",
       "      <td>...</td>\n",
       "      <td>...</td>\n",
       "      <td>...</td>\n",
       "    </tr>\n",
       "    <tr>\n",
       "      <td>60788</td>\n",
       "      <td>2016-01-05 17:39:34</td>\n",
       "      <td>2016-01-05 17:43:25</td>\n",
       "      <td>-73.986076</td>\n",
       "      <td>40.751877</td>\n",
       "      <td>-73.977386</td>\n",
       "      <td>40.752827</td>\n",
       "      <td>1</td>\n",
       "      <td>0.59</td>\n",
       "      <td>231</td>\n",
       "      <td>2016-01-14</td>\n",
       "      <td>17</td>\n",
       "      <td>1</td>\n",
       "      <td>0</td>\n",
       "      <td>2</td>\n",
       "      <td>9.194805</td>\n",
       "      <td>1</td>\n",
       "    </tr>\n",
       "    <tr>\n",
       "      <td>40686</td>\n",
       "      <td>2016-01-24 15:12:37</td>\n",
       "      <td>2016-01-24 15:25:33</td>\n",
       "      <td>-74.010445</td>\n",
       "      <td>40.718792</td>\n",
       "      <td>-73.990555</td>\n",
       "      <td>40.737961</td>\n",
       "      <td>1</td>\n",
       "      <td>2.40</td>\n",
       "      <td>776</td>\n",
       "      <td>2016-01-15</td>\n",
       "      <td>15</td>\n",
       "      <td>6</td>\n",
       "      <td>1</td>\n",
       "      <td>2</td>\n",
       "      <td>11.134021</td>\n",
       "      <td>0</td>\n",
       "    </tr>\n",
       "    <tr>\n",
       "      <td>36524</td>\n",
       "      <td>2016-01-15 07:12:44</td>\n",
       "      <td>2016-01-15 07:19:10</td>\n",
       "      <td>-73.977615</td>\n",
       "      <td>40.738304</td>\n",
       "      <td>-73.964989</td>\n",
       "      <td>40.755611</td>\n",
       "      <td>1</td>\n",
       "      <td>1.40</td>\n",
       "      <td>386</td>\n",
       "      <td>2016-01-21</td>\n",
       "      <td>7</td>\n",
       "      <td>4</td>\n",
       "      <td>0</td>\n",
       "      <td>2</td>\n",
       "      <td>13.056995</td>\n",
       "      <td>0</td>\n",
       "    </tr>\n",
       "    <tr>\n",
       "      <td>62652</td>\n",
       "      <td>2016-01-01 02:38:47</td>\n",
       "      <td>2016-01-01 02:45:24</td>\n",
       "      <td>-73.989952</td>\n",
       "      <td>40.734646</td>\n",
       "      <td>-73.991936</td>\n",
       "      <td>40.749321</td>\n",
       "      <td>1</td>\n",
       "      <td>1.40</td>\n",
       "      <td>397</td>\n",
       "      <td>2016-01-29</td>\n",
       "      <td>2</td>\n",
       "      <td>4</td>\n",
       "      <td>0</td>\n",
       "      <td>1</td>\n",
       "      <td>12.695214</td>\n",
       "      <td>0</td>\n",
       "    </tr>\n",
       "    <tr>\n",
       "      <td>31341</td>\n",
       "      <td>2016-01-09 17:41:52</td>\n",
       "      <td>2016-01-09 17:51:43</td>\n",
       "      <td>-73.950691</td>\n",
       "      <td>40.779537</td>\n",
       "      <td>-73.964676</td>\n",
       "      <td>40.764088</td>\n",
       "      <td>2</td>\n",
       "      <td>1.47</td>\n",
       "      <td>591</td>\n",
       "      <td>2016-01-22</td>\n",
       "      <td>17</td>\n",
       "      <td>5</td>\n",
       "      <td>1</td>\n",
       "      <td>2</td>\n",
       "      <td>8.954315</td>\n",
       "      <td>2</td>\n",
       "    </tr>\n",
       "  </tbody>\n",
       "</table>\n",
       "<p>13421 rows × 16 columns</p>\n",
       "</div>"
      ],
      "text/plain": [
       "           pickup_datetime     dropoff_datetime  pickup_lon  pickup_lat  \\\n",
       "73288  2016-01-30 21:27:30  2016-01-30 21:33:17  -73.981812   40.762707   \n",
       "26780  2016-01-30 22:31:23  2016-01-30 22:54:06  -73.991180   40.744499   \n",
       "3677   2016-01-26 06:15:02  2016-01-26 06:24:19  -74.004410   40.730579   \n",
       "27080  2016-01-19 08:19:25  2016-01-19 08:31:36  -73.981705   40.736736   \n",
       "78970  2016-01-27 18:31:17  2016-01-27 18:42:45  -73.976456   40.788666   \n",
       "...                    ...                  ...         ...         ...   \n",
       "60788  2016-01-05 17:39:34  2016-01-05 17:43:25  -73.986076   40.751877   \n",
       "40686  2016-01-24 15:12:37  2016-01-24 15:25:33  -74.010445   40.718792   \n",
       "36524  2016-01-15 07:12:44  2016-01-15 07:19:10  -73.977615   40.738304   \n",
       "62652  2016-01-01 02:38:47  2016-01-01 02:45:24  -73.989952   40.734646   \n",
       "31341  2016-01-09 17:41:52  2016-01-09 17:51:43  -73.950691   40.779537   \n",
       "\n",
       "       dropoff_lon  dropoff_lat  passengers  distance  duration        date  \\\n",
       "73288   -73.991264    40.765255           1      0.50       347  2016-01-28   \n",
       "26780   -73.993317    40.715672           1      3.68      1363  2016-01-07   \n",
       "3677    -74.010300    40.709057           1      1.70       557  2016-01-31   \n",
       "27080   -74.001122    40.731564           1      1.70       731  2016-01-29   \n",
       "78970   -73.957535    40.776848           1      1.60       688  2016-01-06   \n",
       "...            ...          ...         ...       ...       ...         ...   \n",
       "60788   -73.977386    40.752827           1      0.59       231  2016-01-14   \n",
       "40686   -73.990555    40.737961           1      2.40       776  2016-01-15   \n",
       "36524   -73.964989    40.755611           1      1.40       386  2016-01-21   \n",
       "62652   -73.991936    40.749321           1      1.40       397  2016-01-29   \n",
       "31341   -73.964676    40.764088           2      1.47       591  2016-01-22   \n",
       "\n",
       "       hour  day  weekend  period      speed region  \n",
       "73288    21    5        1       3   5.187320      1  \n",
       "26780    22    5        1       3   9.719736      0  \n",
       "3677      6    1        0       2  10.987433      0  \n",
       "27080     8    1        0       2   8.372093      0  \n",
       "78970    18    2        0       3   8.372093      2  \n",
       "...     ...  ...      ...     ...        ...    ...  \n",
       "60788    17    1        0       2   9.194805      1  \n",
       "40686    15    6        1       2  11.134021      0  \n",
       "36524     7    4        0       2  13.056995      0  \n",
       "62652     2    4        0       1  12.695214      0  \n",
       "31341    17    5        1       2   8.954315      2  \n",
       "\n",
       "[13421 rows x 16 columns]"
      ]
     },
     "execution_count": 238,
     "metadata": {},
     "output_type": "execute_result"
    }
   ],
   "source": [
    "test"
   ]
  },
  {
   "cell_type": "markdown",
   "metadata": {},
   "source": [
    "Let's see how PCA divided the trips into three groups. These regions do roughly correspond to Lower Manhattan (below 14th street), Midtown Manhattan (between 14th and the park), and Upper Manhattan (bordering Central Park). No prior knowledge of New York geography was required!"
   ]
  },
  {
   "cell_type": "code",
   "execution_count": null,
   "metadata": {
    "ExecuteTime": {
     "end_time": "2019-04-19T00:52:15.135735Z",
     "start_time": "2019-04-19T00:52:14.657562Z"
    }
   },
   "outputs": [],
   "source": [
    "plt.figure(figsize=(8, 16))\n",
    "for i in [0, 1, 2]:\n",
    "    pickup_scatter(train[train['region'] == i])"
   ]
  },
  {
   "cell_type": "markdown",
   "metadata": {},
   "source": [
    "### Question 3e (ungraded)\n",
    "\n",
    "Use `sns.distplot` to create an overlaid histogram comparing the distribution of speeds for nighttime taxi rides (6pm-12am) in the three different regions defined above. Does it appear that there is an association between region and average speed during the night?"
   ]
  },
  {
   "cell_type": "code",
   "execution_count": null,
   "metadata": {
    "ExecuteTime": {
     "end_time": "2019-04-19T00:52:15.540800Z",
     "start_time": "2019-04-19T00:52:15.137862Z"
    }
   },
   "outputs": [],
   "source": [
    "..."
   ]
  },
  {
   "cell_type": "markdown",
   "metadata": {},
   "source": [
    "Finally, we create a design matrix that includes many of these features. Quantitative features are converted to standard units, while categorical features are converted to dummy variables using one-hot encoding. The `period` is not included because it is a linear combination of the `hour`. The `weekend` variable is not included because it is a linear combination of the `day`.  The `speed` is not included because it was computed from the `duration`; it's impossible to know the speed without knowing the duration, given that you know the distance."
   ]
  },
  {
   "cell_type": "code",
   "execution_count": null,
   "metadata": {
    "ExecuteTime": {
     "end_time": "2019-04-19T00:52:15.575279Z",
     "start_time": "2019-04-19T00:52:15.542763Z"
    }
   },
   "outputs": [],
   "source": [
    "from sklearn.preprocessing import StandardScaler\n",
    "\n",
    "num_vars = ['pickup_lon', 'pickup_lat', 'dropoff_lon', 'dropoff_lat', 'distance']\n",
    "cat_vars = ['hour', 'day', 'region']\n",
    "\n",
    "scaler = StandardScaler()\n",
    "scaler.fit(train[num_vars])\n",
    "\n",
    "def design_matrix(t):\n",
    "    \"\"\"Create a design matrix from taxi ride dataframe t.\"\"\"\n",
    "    scaled = t[num_vars].copy()\n",
    "    scaled.iloc[:,:] = scaler.transform(scaled) # Convert to standard units\n",
    "    categoricals = [pd.get_dummies(t[s], prefix=s, drop_first=True) for s in cat_vars]\n",
    "    return pd.concat([scaled] + categoricals, axis=1)\n",
    "\n",
    "# This processes the full train set, then gives us the first item\n",
    "# Use this function to get a processed copy of the dataframe passed in\n",
    "# for training / evaluation\n",
    "design_matrix(train).iloc[0,:]  "
   ]
  },
  {
   "cell_type": "markdown",
   "metadata": {},
   "source": [
    "## Part 4: Model Selection\n",
    "\n",
    "In this part, you will select a regression model to predict the duration of a taxi ride.\n",
    "\n",
    "**Important:** *Tests in this part do not confirm that you have answered correctly. Instead, they check that you're somewhat close in order to detect major errors. It is up to you to calculate the results correctly based on the question descriptions.*"
   ]
  },
  {
   "cell_type": "markdown",
   "metadata": {
    "deletable": false,
    "editable": false
   },
   "source": [
    "### Question 4a\n",
    "\n",
    "Assign `constant_rmse` to the root mean squared error on the **test** set for a constant model that always predicts the mean duration of all **training set** taxi rides.\n",
    "\n",
    "<!--\n",
    "BEGIN QUESTION\n",
    "name: q4a\n",
    "points: 2\n",
    "-->"
   ]
  },
  {
   "cell_type": "code",
   "execution_count": null,
   "metadata": {
    "ExecuteTime": {
     "end_time": "2019-04-19T00:52:15.585597Z",
     "start_time": "2019-04-19T00:52:15.577375Z"
    }
   },
   "outputs": [],
   "source": [
    "def rmse(errors):\n",
    "    \"\"\"Return the root mean squared error.\"\"\"\n",
    "    return np.sqrt(np.mean(errors ** 2))\n",
    "\n",
    "constant_rmse = ...\n",
    "constant_rmse"
   ]
  },
  {
   "cell_type": "code",
   "execution_count": null,
   "metadata": {
    "deletable": false,
    "editable": false
   },
   "outputs": [],
   "source": [
    "ok.grade(\"q4a\");"
   ]
  },
  {
   "cell_type": "markdown",
   "metadata": {
    "deletable": false,
    "editable": false
   },
   "source": [
    "### Question 4b\n",
    "\n",
    "Assign `simple_rmse` to the root mean squared error on the test set for a simple linear regression model that uses only the distance of the taxi ride as a feature (and includes an intercept).\n",
    "\n",
    "*Terminology Note*: Simple linear regression means that there is only one covariate. Multiple linear regression means that there is more than one. In either case, you can use the `LinearRegression` model from `sklearn` to fit the parameters to data.\n",
    "\n",
    "<!--\n",
    "BEGIN QUESTION\n",
    "name: q4b\n",
    "points: 2\n",
    "-->"
   ]
  },
  {
   "cell_type": "code",
   "execution_count": null,
   "metadata": {
    "ExecuteTime": {
     "end_time": "2019-04-19T00:52:15.693274Z",
     "start_time": "2019-04-19T00:52:15.625838Z"
    }
   },
   "outputs": [],
   "source": [
    "from sklearn.linear_model import LinearRegression\n",
    "\n",
    "model = LinearRegression()\n",
    "...\n",
    "simple_rmse = ...\n",
    "simple_rmse"
   ]
  },
  {
   "cell_type": "code",
   "execution_count": null,
   "metadata": {
    "deletable": false,
    "editable": false
   },
   "outputs": [],
   "source": [
    "ok.grade(\"q4b\");"
   ]
  },
  {
   "cell_type": "markdown",
   "metadata": {
    "deletable": false,
    "editable": false
   },
   "source": [
    "### Question 4c\n",
    "\n",
    "Assign `linear_rmse` to the root mean squared error on the test set for a linear regression model fitted to the training set without regularization, using the design matrix defined by the `design_matrix` function from Part 3.\n",
    "\n",
    "*The provided tests check that you have answered the question correctly and that your `design_matrix` function is working as intended.*\n",
    "\n",
    "<!--\n",
    "BEGIN QUESTION\n",
    "name: q4c\n",
    "points: 2\n",
    "-->"
   ]
  },
  {
   "cell_type": "code",
   "execution_count": null,
   "metadata": {
    "ExecuteTime": {
     "end_time": "2019-04-19T00:52:15.892103Z",
     "start_time": "2019-04-19T00:52:15.728215Z"
    }
   },
   "outputs": [],
   "source": [
    "model = LinearRegression()\n",
    "...\n",
    "linear_rmse = ...\n",
    "linear_rmse"
   ]
  },
  {
   "cell_type": "code",
   "execution_count": null,
   "metadata": {
    "deletable": false,
    "editable": false
   },
   "outputs": [],
   "source": [
    "ok.grade(\"q4c\");"
   ]
  },
  {
   "cell_type": "markdown",
   "metadata": {
    "deletable": false,
    "editable": false
   },
   "source": [
    "### Question 4d\n",
    "\n",
    "For each possible value of `period`, fit an unregularized linear regression model to the subset of the training set in that `period`.  Assign `period_rmse` to the root mean squared error on the test set for a model that first chooses linear regression parameters based on the observed period of the taxi ride, then predicts the duration using those parameters. Again, fit to the training set and use the `design_matrix` function for features.\n",
    "\n",
    "<!--\n",
    "BEGIN QUESTION\n",
    "name: q4d\n",
    "points: 2\n",
    "-->"
   ]
  },
  {
   "cell_type": "code",
   "execution_count": null,
   "metadata": {
    "ExecuteTime": {
     "end_time": "2019-04-19T00:52:16.112196Z",
     "start_time": "2019-04-19T00:52:15.954833Z"
    }
   },
   "outputs": [],
   "source": [
    "model = LinearRegression()\n",
    "errors = []\n",
    "\n",
    "for v in np.unique(train['period']):\n",
    "    ...\n",
    "    \n",
    "period_rmse = rmse(np.array(errors))\n",
    "period_rmse"
   ]
  },
  {
   "cell_type": "code",
   "execution_count": null,
   "metadata": {
    "deletable": false,
    "editable": false
   },
   "outputs": [],
   "source": [
    "ok.grade(\"q4d\");"
   ]
  },
  {
   "cell_type": "markdown",
   "metadata": {},
   "source": [
    "This approach is a simple form of decision tree regression, where a different regression function is estimated for each possible choice among a collection of choices. In this case, the depth of the tree is only 1."
   ]
  },
  {
   "cell_type": "markdown",
   "metadata": {
    "deletable": false,
    "editable": false
   },
   "source": [
    "### Question 4e\n",
    "\n",
    "In one or two sentences, explain how the `period` regression model above could possibly outperform linear regression when the design matrix for linear regression already includes one feature for each possible hour, which can be combined linearly to determine the `period` value.\n",
    "\n",
    "<!--\n",
    "BEGIN QUESTION\n",
    "name: q4e\n",
    "points: 2\n",
    "manual: True\n",
    "-->\n",
    "<!-- EXPORT TO PDF -->"
   ]
  },
  {
   "cell_type": "markdown",
   "metadata": {},
   "source": [
    "*Write your answer here, replacing this text.*"
   ]
  },
  {
   "cell_type": "markdown",
   "metadata": {
    "deletable": false,
    "editable": false
   },
   "source": [
    "### Question 4f\n",
    "\n",
    "Instead of predicting duration directly, an alternative is to predict the average *speed* of the taxi ride using linear regression, then compute an estimate of the duration from the predicted speed and observed distance for each ride.\n",
    "\n",
    "Assign `speed_rmse` to the root mean squared error in the **duration** predicted by a model that first predicts speed as a linear combination of features from the `design_matrix` function, fitted on the training set, then predicts duration from the predicted speed and observed distance.\n",
    "\n",
    "*Hint*: Speed is in miles per hour, but duration is measured in seconds. You'll need the fact that there are 60 * 60 = 3,600 seconds in an hour.\n",
    "\n",
    "<!--\n",
    "BEGIN QUESTION\n",
    "name: q4f\n",
    "points: 2\n",
    "-->"
   ]
  },
  {
   "cell_type": "code",
   "execution_count": null,
   "metadata": {
    "ExecuteTime": {
     "end_time": "2019-04-19T00:52:16.290797Z",
     "start_time": "2019-04-19T00:52:16.145522Z"
    }
   },
   "outputs": [],
   "source": [
    "model = LinearRegression()\n",
    "...\n",
    "speed_rmse = ...\n",
    "speed_rmse"
   ]
  },
  {
   "cell_type": "code",
   "execution_count": null,
   "metadata": {
    "deletable": false,
    "editable": false
   },
   "outputs": [],
   "source": [
    "ok.grade(\"q4f\");"
   ]
  },
  {
   "cell_type": "markdown",
   "metadata": {},
   "source": [
    "*Optional*: Explain why predicting speed leads to a more accurate regression model than predicting duration directly. You don't need to write this down."
   ]
  },
  {
   "cell_type": "markdown",
   "metadata": {
    "deletable": false,
    "editable": false
   },
   "source": [
    "### Question 4g\n",
    "\n",
    "Finally, complete the function `tree_regression_errors` (and helper function `speed_error`) that combines the ideas from the two previous models and generalizes to multiple categorical variables.\n",
    "\n",
    "The `tree_regression_errors` should:\n",
    "- Find a different linear regression model for each possible combination of the variables in `choices`;\n",
    "- Fit to the specified `outcome` (on train) and predict that `outcome` (on test) for each combination (`outcome` will be `'duration'` or `'speed'`);\n",
    "- Use the specified `error_fn` (either `duration_error` or `speed_error`) to compute the error in predicted duration using the predicted outcome;\n",
    "- Aggregate those errors over the whole test set and return them.\n",
    "\n",
    "You should find that including each of `period`, `region`, and `weekend` improves prediction accuracy, and that predicting speed rather than duration leads to more accurate duration predictions.\n",
    "\n",
    "If you're stuck, try putting print statements in the skeleton code to see what it's doing.\n",
    "\n",
    "<!--\n",
    "BEGIN QUESTION\n",
    "name: q4g\n",
    "points: 4\n",
    "-->"
   ]
  },
  {
   "cell_type": "code",
   "execution_count": null,
   "metadata": {
    "ExecuteTime": {
     "end_time": "2019-04-19T00:52:17.731011Z",
     "start_time": "2019-04-19T00:52:16.324235Z"
    }
   },
   "outputs": [],
   "source": [
    "model = LinearRegression()\n",
    "choices = ['period', 'region', 'weekend']\n",
    "\n",
    "def duration_error(predictions, observations):\n",
    "    \"\"\"Error between duration predictions (array) and observations (data frame)\"\"\"\n",
    "    return predictions - observations['duration']\n",
    "\n",
    "def speed_error(predictions, observations):\n",
    "    \"\"\"Duration error between speed predictions and duration observations\"\"\"\n",
    "    ...\n",
    "\n",
    "def tree_regression_errors(outcome='duration', error_fn=duration_error):\n",
    "    \"\"\"Return errors for all examples in test using a tree regression model.\"\"\"\n",
    "    errors = []\n",
    "    for vs in train.groupby(choices).size().index:\n",
    "        v_train, v_test = train, test\n",
    "        for v, c in zip(vs, choices):\n",
    "            v_train = ...\n",
    "            v_test = ...\n",
    "        ...\n",
    "    return errors\n",
    "\n",
    "errors = tree_regression_errors()\n",
    "errors_via_speed = tree_regression_errors('speed', speed_error)\n",
    "tree_rmse = rmse(np.array(errors))\n",
    "tree_speed_rmse = rmse(np.array(errors_via_speed))\n",
    "print('Duration:', tree_rmse, '\\nSpeed:', tree_speed_rmse)"
   ]
  },
  {
   "cell_type": "code",
   "execution_count": null,
   "metadata": {
    "deletable": false,
    "editable": false
   },
   "outputs": [],
   "source": [
    "ok.grade(\"q4g\");"
   ]
  },
  {
   "cell_type": "markdown",
   "metadata": {},
   "source": [
    "Here's a summary of your results:"
   ]
  },
  {
   "cell_type": "code",
   "execution_count": null,
   "metadata": {
    "ExecuteTime": {
     "end_time": "2019-04-19T00:52:17.975288Z",
     "start_time": "2019-04-19T00:52:17.813049Z"
    }
   },
   "outputs": [],
   "source": [
    "models = ['constant', 'simple', 'linear', 'period', 'speed', 'tree', 'tree_speed']\n",
    "pd.DataFrame.from_dict({\n",
    "    'Model': models,\n",
    "    'Test RMSE': [eval(m + '_rmse') for m in models]\n",
    "}).set_index('Model').plot(kind='barh');"
   ]
  },
  {
   "cell_type": "markdown",
   "metadata": {},
   "source": [
    "## Part 5: Building on your own\n",
    "\n",
    "In this part you'll build a regression model of your own design, with the goal of achieving even higher performance than you've seen already. You will be graded on your performance relative to others in the class, with higher performance (lower RMSE) receiving more points.\n",
    "\n"
   ]
  },
  {
   "cell_type": "markdown",
   "metadata": {},
   "source": [
    "### Question 5a\n",
    "\n",
    "In the below cell (feel free to add your own additional cells), train a regression model of your choice on the same train dataset split used above. The model can incorporate anything you've learned from the class so far.\n",
    "\n",
    "The model you train will be used for questions 5b and 5c"
   ]
  },
  {
   "cell_type": "code",
   "execution_count": null,
   "metadata": {},
   "outputs": [],
   "source": [
    "..."
   ]
  },
  {
   "cell_type": "markdown",
   "metadata": {},
   "source": [
    "### Question 5b\n",
    "\n",
    "Print a summary of your model's performance. You **must** include the RMSE on the train and test sets. Do not hardcode any values or you won't receive credit.\n",
    "\n",
    "Don't include any long lines or we won't be able to grade your response.\n",
    "\n",
    "<!--\n",
    "BEGIN QUESTION\n",
    "name: q5b\n",
    "points: 7\n",
    "manual: True\n",
    "-->\n",
    "<!-- EXPORT TO PDF -->"
   ]
  },
  {
   "cell_type": "code",
   "execution_count": null,
   "metadata": {},
   "outputs": [],
   "source": [
    "..."
   ]
  },
  {
   "cell_type": "markdown",
   "metadata": {},
   "source": [
    "### Question 5c\n",
    "Describe why you selected the model you did and what you did to try and improve performance over the models in section 4.\n",
    "\n",
    "Responses should be at most a few sentences\n",
    "\n",
    "<!--\n",
    "BEGIN QUESTION\n",
    "name: q5c\n",
    "points: 3\n",
    "manual: True\n",
    "-->\n",
    "<!-- EXPORT TO PDF -->"
   ]
  },
  {
   "cell_type": "markdown",
   "metadata": {},
   "source": [
    "*Write your response here*"
   ]
  },
  {
   "cell_type": "markdown",
   "metadata": {},
   "source": [
    "**Congratulations**! You've carried out the entire data science lifecycle for a challenging regression problem. \n",
    "\n",
    "In Part 1 on data selection, you solved a domain-specific programming problem relevant to the analysis when choosing only those taxi rides that started and ended in Manhattan.\n",
    "\n",
    "In Part 2 on EDA, you used the data to assess the impact of a historical event---the 2016 blizzard---and filtered the data accordingly.\n",
    "\n",
    "In Part 3 on feature engineering, you used PCA to divide up the map of Manhattan into regions that roughly corresponded to the standard geographic description of the island.\n",
    "\n",
    "In Part 4 on model selection, you found that using linear regression in practice can involve more than just choosing a design matrix. Tree regression made better use of categorical variables than linear regression. The domain knowledge that duration is a simple function of distance and speed allowed you to predict duration more accurately by first predicting speed.\n",
    "\n",
    "In Part 5, you made your own model using techniques you've learned throughout the course.\n",
    "\n",
    "Hopefully, it is apparent that all of these steps are required to reach a reliable conclusion about what inputs and model structure are helpful in predicting the duration of a taxi ride in Manhattan. "
   ]
  },
  {
   "cell_type": "markdown",
   "metadata": {},
   "source": [
    "## Future Work\n",
    "\n",
    "Here are some questions to ponder:\n",
    "\n",
    "- The regression model would have been more accurate if we had used the date itself as a feature instead of just the day of the week. Why didn't we do that?\n",
    "- Does collecting this information about every taxi ride introduce a privacy risk? The original data also included the total fare; how could someone use this information combined with an individual's credit card records to determine their location?\n",
    "- Why did we treat `hour` as a categorical variable instead of a quantitative variable? Would a similar treatment be beneficial for latitude and longitude?\n",
    "- Why are Google Maps estimates of ride time much more accurate than our estimates?\n",
    "\n",
    "\n",
    "Here are some possible extensions to the project:\n",
    "\n",
    "- An alternative to throwing out atypical days is to condition on a feature that makes them atypical, such as the weather or holiday calendar. How would you do that?\n",
    "- Training a different linear regression model for every possible combination of categorical variables can overfit. How would you select which variables to include in a decision tree instead of just using them all?\n",
    "- Your models use the observed distance as an input, but the distance is only observed after the ride is over. How could you estimate the distance from the pick-up and drop-off locations?\n",
    "- How would you incorporate traffic data into the model?"
   ]
  },
  {
   "cell_type": "code",
   "execution_count": null,
   "metadata": {
    "deletable": false
   },
   "outputs": [],
   "source": [
    "# Save your notebook first, then run this cell to submit.\n",
    "# First pip install jassign, you will also need to install latex\n",
    "import jassign.to_pdf\n",
    "jassign.to_pdf.generate_pdf('proj3.ipynb', 'proj3.pdf')\n",
    "ok.submit()"
   ]
  }
 ],
 "metadata": {
  "celltoolbar": "Edit Metadata",
  "kernelspec": {
   "display_name": "Python 3",
   "language": "python",
   "name": "python3"
  },
  "language_info": {
   "codemirror_mode": {
    "name": "ipython",
    "version": 3
   },
   "file_extension": ".py",
   "mimetype": "text/x-python",
   "name": "python",
   "nbconvert_exporter": "python",
   "pygments_lexer": "ipython3",
   "version": "3.7.4"
  }
 },
 "nbformat": 4,
 "nbformat_minor": 2
}

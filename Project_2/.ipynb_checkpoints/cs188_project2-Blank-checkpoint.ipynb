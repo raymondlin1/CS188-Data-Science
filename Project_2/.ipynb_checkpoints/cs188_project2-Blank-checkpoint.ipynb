{
 "cells": [
  {
   "cell_type": "markdown",
   "metadata": {},
   "source": [
    "# CS188 Project 2 - Binary Classification Comparative Methods"
   ]
  },
  {
   "cell_type": "markdown",
   "metadata": {},
   "source": [
    "For this project we're going to attempt a binary classification of a dataset using multiple methods and compare results. \n",
    "\n",
    "Our goals for this project will be to introduce you to several of the most common classification techniques, how to perform them and tweek parameters to optimize outcomes, how to produce and interpret results, and compare performance. You will be asked to analyze your findings and provide explanations for observed performance. \n",
    "\n",
    "Specifically you will be asked to classify whether a <b>patient is suffering from heart disease</b> based on a host of potential medical factors.\n",
    "\n",
    "<b><u>DEFINITIONS</b></u>\n",
    "\n",
    "\n",
    "<b> Binary Classification:</b>\n",
    "In this case a complex dataset has an added 'target' label with one of two options. Your learning algorithm will try to assign one of these labels to the data.\n",
    "\n",
    "<b> Supervised Learning:</b>\n",
    "This data is fully supervised, which means it's been fully labeled and we can trust the veracity of the labeling."
   ]
  },
  {
   "cell_type": "markdown",
   "metadata": {},
   "source": [
    "## Background: The Dataset "
   ]
  },
  {
   "cell_type": "markdown",
   "metadata": {},
   "source": [
    "For this exercise we will be using a subset of the UCI Heart Disease dataset, leveraging the fourteen most commonly used attributes. All identifying information about the patient has been scrubbed. \n",
    "\n",
    "The dataset includes 14 columns. The information provided by each column is as follows:\n",
    "<ul>\n",
    "    <li><b>age:</b> Age in years</li>\n",
    "    <li><b>sex:</b> (1 = male; 0 = female)</li>\n",
    "    <li><b>cp:</b> Chest pain type (0 = asymptomatic; 1 = atypical angina; 2 = non-anginal pain; 3 = typical angina)</li>\n",
    "    <li><b>trestbps:</b> Resting blood pressure (in mm Hg on admission to the hospital)</li>\n",
    "    <li><b>cholserum:</b> Cholestoral in mg/dl</li>\n",
    "    <li><b>fbs</b> Fasting blood sugar > 120 mg/dl (1 = true; 0 = false)</li>\n",
    "    <li><b>restecg:</b> Resting electrocardiographic results (0= showing probable or definite left ventricular hypertrophy by Estes' criteria; 1 = normal; 2 = having ST-T wave abnormality (T wave inversions and/or ST elevation or depression of > 0.05 mV))</li>\n",
    "    <li><b>thalach:</b> Maximum heart rate achieved</li>\n",
    "    <li><b>exang:</b> Exercise induced angina (1 = yes; 0 = no)</li>\n",
    "    <li><b>oldpeakST:</b> Depression induced by exercise relative to rest</li>\n",
    "    <li><b>slope:</b> The slope of the peak exercise ST segment (0 = downsloping; 1 = flat; 2 = upsloping)</li>\n",
    "    <li><b>ca:</b> Number of major vessels (0-3) colored by flourosopy</li>\n",
    "    <li><b>thal:</b> 1 = normal; 2 = fixed defect; 7 = reversable defect</li>\n",
    "    <li><b><u>Sick:</u></b> Indicates the presence of Heart disease (True = Disease; False = No disease)</li>\n",
    "</ul>\n",
    "    \n"
   ]
  },
  {
   "cell_type": "markdown",
   "metadata": {},
   "source": [
    "## Loading Essentials and Helper Functions "
   ]
  },
  {
   "cell_type": "code",
   "execution_count": 1,
   "metadata": {
    "scrolled": false
   },
   "outputs": [],
   "source": [
    "#Here are a set of libraries we imported to complete this assignment. \n",
    "#Feel free to use these or equivalent libraries for your implementation\n",
    "import numpy as np # linear algebra\n",
    "import pandas as pd # data processing, CSV file I/O (e.g. pd.read_csv)\n",
    "import matplotlib.pyplot as plt # this is used for the plot the graph \n",
    "import os\n",
    "import seaborn as sns # used for plot interactive graph.\n",
    "from sklearn.model_selection import train_test_split, cross_val_score, GridSearchCV\n",
    "from sklearn import metrics\n",
    "from sklearn.svm import SVC  \n",
    "from sklearn.linear_model import LogisticRegression\n",
    "from sklearn.neighbors import KNeighborsClassifier\n",
    "from sklearn.tree import DecisionTreeClassifier\n",
    "from sklearn.cluster import KMeans\n",
    "from sklearn.metrics import confusion_matrix\n",
    "import sklearn.metrics.cluster as smc\n",
    "from sklearn.model_selection import KFold\n",
    "\n",
    "\n",
    "from matplotlib import pyplot\n",
    "import itertools\n",
    "\n",
    "%matplotlib inline\n",
    "import random \n",
    "  \n",
    "random.seed(42) "
   ]
  },
  {
   "cell_type": "code",
   "execution_count": 2,
   "metadata": {
    "scrolled": false
   },
   "outputs": [],
   "source": [
    "# Helper function allowing you to export a graph\n",
    "def save_fig(fig_id, tight_layout=True, fig_extension=\"png\", resolution=300):\n",
    "    path = os.path.join(fig_id + \".\" + fig_extension)\n",
    "    print(\"Saving figure\", fig_id)\n",
    "    if tight_layout:\n",
    "        plt.tight_layout()\n",
    "    plt.savefig(path, format=fig_extension, dpi=resolution)"
   ]
  },
  {
   "cell_type": "code",
   "execution_count": 3,
   "metadata": {
    "scrolled": false
   },
   "outputs": [],
   "source": [
    "# Helper function that allows you to draw nicely formatted confusion matrices\n",
    "def draw_confusion_matrix(y, yhat, classes):\n",
    "    '''\n",
    "        Draws a confusion matrix for the given target and predictions\n",
    "        Adapted from scikit-learn and discussion example.\n",
    "    '''\n",
    "    plt.cla()\n",
    "    plt.clf()\n",
    "    matrix = confusion_matrix(y, yhat)\n",
    "    plt.imshow(matrix, interpolation='nearest', cmap=plt.cm.Blues)\n",
    "    plt.title(\"Confusion Matrix\")\n",
    "    plt.colorbar()\n",
    "    num_classes = len(classes)\n",
    "    plt.xticks(np.arange(num_classes), classes, rotation=90)\n",
    "    plt.yticks(np.arange(num_classes), classes)\n",
    "    \n",
    "    fmt = 'd'\n",
    "    thresh = matrix.max() / 2.\n",
    "    for i, j in itertools.product(range(matrix.shape[0]), range(matrix.shape[1])):\n",
    "        plt.text(j, i, format(matrix[i, j], fmt),\n",
    "                 horizontalalignment=\"center\",\n",
    "                 color=\"white\" if matrix[i, j] > thresh else \"black\")\n",
    "\n",
    "    plt.ylabel('True label')\n",
    "    plt.xlabel('Predicted label')\n",
    "    plt.tight_layout()\n",
    "    plt.show()"
   ]
  },
  {
   "cell_type": "markdown",
   "metadata": {},
   "source": [
    "## [20 Points] Part 1. Load the Data and Analyze"
   ]
  },
  {
   "cell_type": "markdown",
   "metadata": {},
   "source": [
    "Let's first load our dataset so we'll be able to work with it. (correct the relative path if your notebook is in a different directory than the csv file.)"
   ]
  },
  {
   "cell_type": "code",
   "execution_count": 4,
   "metadata": {
    "scrolled": false
   },
   "outputs": [],
   "source": [
    "data = pd.read_csv(\"heartdisease.csv\")"
   ]
  },
  {
   "cell_type": "markdown",
   "metadata": {},
   "source": [
    "### Question 1.1 Now that our data is loaded, let's take a closer look at the dataset we're working with. Use the head method to display some of the rows so we can visualize the types of data fields we'll be working with, then use the describe method, along with any additional methods you'd like to call to better help you understand what you're working with and what issues you might face. "
   ]
  },
  {
   "cell_type": "code",
   "execution_count": 5,
   "metadata": {
    "scrolled": false
   },
   "outputs": [
    {
     "data": {
      "text/html": [
       "<div>\n",
       "<style scoped>\n",
       "    .dataframe tbody tr th:only-of-type {\n",
       "        vertical-align: middle;\n",
       "    }\n",
       "\n",
       "    .dataframe tbody tr th {\n",
       "        vertical-align: top;\n",
       "    }\n",
       "\n",
       "    .dataframe thead th {\n",
       "        text-align: right;\n",
       "    }\n",
       "</style>\n",
       "<table border=\"1\" class=\"dataframe\">\n",
       "  <thead>\n",
       "    <tr style=\"text-align: right;\">\n",
       "      <th></th>\n",
       "      <th>age</th>\n",
       "      <th>sex</th>\n",
       "      <th>cp</th>\n",
       "      <th>trestbps</th>\n",
       "      <th>chol</th>\n",
       "      <th>fbs</th>\n",
       "      <th>restecg</th>\n",
       "      <th>thalach</th>\n",
       "      <th>exang</th>\n",
       "      <th>oldpeak</th>\n",
       "      <th>slope</th>\n",
       "      <th>ca</th>\n",
       "      <th>thal</th>\n",
       "      <th>sick</th>\n",
       "    </tr>\n",
       "  </thead>\n",
       "  <tbody>\n",
       "    <tr>\n",
       "      <td>0</td>\n",
       "      <td>63</td>\n",
       "      <td>1</td>\n",
       "      <td>3</td>\n",
       "      <td>145</td>\n",
       "      <td>233</td>\n",
       "      <td>1</td>\n",
       "      <td>0</td>\n",
       "      <td>150</td>\n",
       "      <td>0</td>\n",
       "      <td>2.3</td>\n",
       "      <td>0</td>\n",
       "      <td>0</td>\n",
       "      <td>1</td>\n",
       "      <td>False</td>\n",
       "    </tr>\n",
       "    <tr>\n",
       "      <td>1</td>\n",
       "      <td>37</td>\n",
       "      <td>1</td>\n",
       "      <td>2</td>\n",
       "      <td>130</td>\n",
       "      <td>250</td>\n",
       "      <td>0</td>\n",
       "      <td>1</td>\n",
       "      <td>187</td>\n",
       "      <td>0</td>\n",
       "      <td>3.5</td>\n",
       "      <td>0</td>\n",
       "      <td>0</td>\n",
       "      <td>2</td>\n",
       "      <td>False</td>\n",
       "    </tr>\n",
       "    <tr>\n",
       "      <td>2</td>\n",
       "      <td>41</td>\n",
       "      <td>0</td>\n",
       "      <td>1</td>\n",
       "      <td>130</td>\n",
       "      <td>204</td>\n",
       "      <td>0</td>\n",
       "      <td>0</td>\n",
       "      <td>172</td>\n",
       "      <td>0</td>\n",
       "      <td>1.4</td>\n",
       "      <td>2</td>\n",
       "      <td>0</td>\n",
       "      <td>2</td>\n",
       "      <td>False</td>\n",
       "    </tr>\n",
       "    <tr>\n",
       "      <td>3</td>\n",
       "      <td>56</td>\n",
       "      <td>1</td>\n",
       "      <td>1</td>\n",
       "      <td>120</td>\n",
       "      <td>236</td>\n",
       "      <td>0</td>\n",
       "      <td>1</td>\n",
       "      <td>178</td>\n",
       "      <td>0</td>\n",
       "      <td>0.8</td>\n",
       "      <td>2</td>\n",
       "      <td>0</td>\n",
       "      <td>2</td>\n",
       "      <td>False</td>\n",
       "    </tr>\n",
       "    <tr>\n",
       "      <td>4</td>\n",
       "      <td>57</td>\n",
       "      <td>0</td>\n",
       "      <td>0</td>\n",
       "      <td>120</td>\n",
       "      <td>354</td>\n",
       "      <td>0</td>\n",
       "      <td>1</td>\n",
       "      <td>163</td>\n",
       "      <td>1</td>\n",
       "      <td>0.6</td>\n",
       "      <td>2</td>\n",
       "      <td>0</td>\n",
       "      <td>2</td>\n",
       "      <td>False</td>\n",
       "    </tr>\n",
       "  </tbody>\n",
       "</table>\n",
       "</div>"
      ],
      "text/plain": [
       "   age  sex  cp  trestbps  chol  fbs  restecg  thalach  exang  oldpeak  slope  \\\n",
       "0   63    1   3       145   233    1        0      150      0      2.3      0   \n",
       "1   37    1   2       130   250    0        1      187      0      3.5      0   \n",
       "2   41    0   1       130   204    0        0      172      0      1.4      2   \n",
       "3   56    1   1       120   236    0        1      178      0      0.8      2   \n",
       "4   57    0   0       120   354    0        1      163      1      0.6      2   \n",
       "\n",
       "   ca  thal   sick  \n",
       "0   0     1  False  \n",
       "1   0     2  False  \n",
       "2   0     2  False  \n",
       "3   0     2  False  \n",
       "4   0     2  False  "
      ]
     },
     "execution_count": 5,
     "metadata": {},
     "output_type": "execute_result"
    }
   ],
   "source": [
    "data.head()"
   ]
  },
  {
   "cell_type": "code",
   "execution_count": 6,
   "metadata": {
    "scrolled": true
   },
   "outputs": [
    {
     "data": {
      "text/html": [
       "<div>\n",
       "<style scoped>\n",
       "    .dataframe tbody tr th:only-of-type {\n",
       "        vertical-align: middle;\n",
       "    }\n",
       "\n",
       "    .dataframe tbody tr th {\n",
       "        vertical-align: top;\n",
       "    }\n",
       "\n",
       "    .dataframe thead th {\n",
       "        text-align: right;\n",
       "    }\n",
       "</style>\n",
       "<table border=\"1\" class=\"dataframe\">\n",
       "  <thead>\n",
       "    <tr style=\"text-align: right;\">\n",
       "      <th></th>\n",
       "      <th>age</th>\n",
       "      <th>sex</th>\n",
       "      <th>cp</th>\n",
       "      <th>trestbps</th>\n",
       "      <th>chol</th>\n",
       "      <th>fbs</th>\n",
       "      <th>restecg</th>\n",
       "      <th>thalach</th>\n",
       "      <th>exang</th>\n",
       "      <th>oldpeak</th>\n",
       "      <th>slope</th>\n",
       "      <th>ca</th>\n",
       "      <th>thal</th>\n",
       "    </tr>\n",
       "  </thead>\n",
       "  <tbody>\n",
       "    <tr>\n",
       "      <td>count</td>\n",
       "      <td>303.000000</td>\n",
       "      <td>303.000000</td>\n",
       "      <td>303.000000</td>\n",
       "      <td>303.000000</td>\n",
       "      <td>303.000000</td>\n",
       "      <td>303.000000</td>\n",
       "      <td>303.000000</td>\n",
       "      <td>303.000000</td>\n",
       "      <td>303.000000</td>\n",
       "      <td>303.000000</td>\n",
       "      <td>303.000000</td>\n",
       "      <td>303.000000</td>\n",
       "      <td>303.000000</td>\n",
       "    </tr>\n",
       "    <tr>\n",
       "      <td>mean</td>\n",
       "      <td>54.366337</td>\n",
       "      <td>0.683168</td>\n",
       "      <td>0.966997</td>\n",
       "      <td>131.623762</td>\n",
       "      <td>246.264026</td>\n",
       "      <td>0.148515</td>\n",
       "      <td>0.528053</td>\n",
       "      <td>149.646865</td>\n",
       "      <td>0.326733</td>\n",
       "      <td>1.039604</td>\n",
       "      <td>1.399340</td>\n",
       "      <td>0.729373</td>\n",
       "      <td>2.313531</td>\n",
       "    </tr>\n",
       "    <tr>\n",
       "      <td>std</td>\n",
       "      <td>9.082101</td>\n",
       "      <td>0.466011</td>\n",
       "      <td>1.032052</td>\n",
       "      <td>17.538143</td>\n",
       "      <td>51.830751</td>\n",
       "      <td>0.356198</td>\n",
       "      <td>0.525860</td>\n",
       "      <td>22.905161</td>\n",
       "      <td>0.469794</td>\n",
       "      <td>1.161075</td>\n",
       "      <td>0.616226</td>\n",
       "      <td>1.022606</td>\n",
       "      <td>0.612277</td>\n",
       "    </tr>\n",
       "    <tr>\n",
       "      <td>min</td>\n",
       "      <td>29.000000</td>\n",
       "      <td>0.000000</td>\n",
       "      <td>0.000000</td>\n",
       "      <td>94.000000</td>\n",
       "      <td>126.000000</td>\n",
       "      <td>0.000000</td>\n",
       "      <td>0.000000</td>\n",
       "      <td>71.000000</td>\n",
       "      <td>0.000000</td>\n",
       "      <td>0.000000</td>\n",
       "      <td>0.000000</td>\n",
       "      <td>0.000000</td>\n",
       "      <td>0.000000</td>\n",
       "    </tr>\n",
       "    <tr>\n",
       "      <td>25%</td>\n",
       "      <td>47.500000</td>\n",
       "      <td>0.000000</td>\n",
       "      <td>0.000000</td>\n",
       "      <td>120.000000</td>\n",
       "      <td>211.000000</td>\n",
       "      <td>0.000000</td>\n",
       "      <td>0.000000</td>\n",
       "      <td>133.500000</td>\n",
       "      <td>0.000000</td>\n",
       "      <td>0.000000</td>\n",
       "      <td>1.000000</td>\n",
       "      <td>0.000000</td>\n",
       "      <td>2.000000</td>\n",
       "    </tr>\n",
       "    <tr>\n",
       "      <td>50%</td>\n",
       "      <td>55.000000</td>\n",
       "      <td>1.000000</td>\n",
       "      <td>1.000000</td>\n",
       "      <td>130.000000</td>\n",
       "      <td>240.000000</td>\n",
       "      <td>0.000000</td>\n",
       "      <td>1.000000</td>\n",
       "      <td>153.000000</td>\n",
       "      <td>0.000000</td>\n",
       "      <td>0.800000</td>\n",
       "      <td>1.000000</td>\n",
       "      <td>0.000000</td>\n",
       "      <td>2.000000</td>\n",
       "    </tr>\n",
       "    <tr>\n",
       "      <td>75%</td>\n",
       "      <td>61.000000</td>\n",
       "      <td>1.000000</td>\n",
       "      <td>2.000000</td>\n",
       "      <td>140.000000</td>\n",
       "      <td>274.500000</td>\n",
       "      <td>0.000000</td>\n",
       "      <td>1.000000</td>\n",
       "      <td>166.000000</td>\n",
       "      <td>1.000000</td>\n",
       "      <td>1.600000</td>\n",
       "      <td>2.000000</td>\n",
       "      <td>1.000000</td>\n",
       "      <td>3.000000</td>\n",
       "    </tr>\n",
       "    <tr>\n",
       "      <td>max</td>\n",
       "      <td>77.000000</td>\n",
       "      <td>1.000000</td>\n",
       "      <td>3.000000</td>\n",
       "      <td>200.000000</td>\n",
       "      <td>564.000000</td>\n",
       "      <td>1.000000</td>\n",
       "      <td>2.000000</td>\n",
       "      <td>202.000000</td>\n",
       "      <td>1.000000</td>\n",
       "      <td>6.200000</td>\n",
       "      <td>2.000000</td>\n",
       "      <td>4.000000</td>\n",
       "      <td>3.000000</td>\n",
       "    </tr>\n",
       "  </tbody>\n",
       "</table>\n",
       "</div>"
      ],
      "text/plain": [
       "              age         sex          cp    trestbps        chol         fbs  \\\n",
       "count  303.000000  303.000000  303.000000  303.000000  303.000000  303.000000   \n",
       "mean    54.366337    0.683168    0.966997  131.623762  246.264026    0.148515   \n",
       "std      9.082101    0.466011    1.032052   17.538143   51.830751    0.356198   \n",
       "min     29.000000    0.000000    0.000000   94.000000  126.000000    0.000000   \n",
       "25%     47.500000    0.000000    0.000000  120.000000  211.000000    0.000000   \n",
       "50%     55.000000    1.000000    1.000000  130.000000  240.000000    0.000000   \n",
       "75%     61.000000    1.000000    2.000000  140.000000  274.500000    0.000000   \n",
       "max     77.000000    1.000000    3.000000  200.000000  564.000000    1.000000   \n",
       "\n",
       "          restecg     thalach       exang     oldpeak       slope          ca  \\\n",
       "count  303.000000  303.000000  303.000000  303.000000  303.000000  303.000000   \n",
       "mean     0.528053  149.646865    0.326733    1.039604    1.399340    0.729373   \n",
       "std      0.525860   22.905161    0.469794    1.161075    0.616226    1.022606   \n",
       "min      0.000000   71.000000    0.000000    0.000000    0.000000    0.000000   \n",
       "25%      0.000000  133.500000    0.000000    0.000000    1.000000    0.000000   \n",
       "50%      1.000000  153.000000    0.000000    0.800000    1.000000    0.000000   \n",
       "75%      1.000000  166.000000    1.000000    1.600000    2.000000    1.000000   \n",
       "max      2.000000  202.000000    1.000000    6.200000    2.000000    4.000000   \n",
       "\n",
       "             thal  \n",
       "count  303.000000  \n",
       "mean     2.313531  \n",
       "std      0.612277  \n",
       "min      0.000000  \n",
       "25%      2.000000  \n",
       "50%      2.000000  \n",
       "75%      3.000000  \n",
       "max      3.000000  "
      ]
     },
     "execution_count": 6,
     "metadata": {},
     "output_type": "execute_result"
    }
   ],
   "source": [
    "data.describe()"
   ]
  },
  {
   "cell_type": "code",
   "execution_count": 7,
   "metadata": {
    "scrolled": false
   },
   "outputs": [
    {
     "data": {
      "text/plain": [
       "age           int64\n",
       "sex           int64\n",
       "cp            int64\n",
       "trestbps      int64\n",
       "chol          int64\n",
       "fbs           int64\n",
       "restecg       int64\n",
       "thalach       int64\n",
       "exang         int64\n",
       "oldpeak     float64\n",
       "slope         int64\n",
       "ca            int64\n",
       "thal          int64\n",
       "sick           bool\n",
       "dtype: object"
      ]
     },
     "execution_count": 7,
     "metadata": {},
     "output_type": "execute_result"
    }
   ],
   "source": [
    "data.dtypes"
   ]
  },
  {
   "cell_type": "code",
   "execution_count": 8,
   "metadata": {
    "scrolled": false
   },
   "outputs": [
    {
     "data": {
      "text/plain": [
       "age         0\n",
       "sex         0\n",
       "cp          0\n",
       "trestbps    0\n",
       "chol        0\n",
       "fbs         0\n",
       "restecg     0\n",
       "thalach     0\n",
       "exang       0\n",
       "oldpeak     0\n",
       "slope       0\n",
       "ca          0\n",
       "thal        0\n",
       "sick        0\n",
       "dtype: int64"
      ]
     },
     "execution_count": 8,
     "metadata": {},
     "output_type": "execute_result"
    }
   ],
   "source": [
    "data.isnull().sum()"
   ]
  },
  {
   "cell_type": "markdown",
   "metadata": {},
   "source": [
    "### Question 1.2 Discuss your data preprocessing strategy. Are their any datafield types that are problemmatic and why? Will there be any null values you will have to impute and how do you intend to do so? Finally, for your numeric and categorical features, what if any, additional preprocessing steps will you take on those data elements?"
   ]
  },
  {
   "cell_type": "markdown",
   "metadata": {},
   "source": [
    "The data looks pretty good to start off with, as there is not much needed to do for preprocessing. Most of the data types are numerical, and thus we can use these to fit our model. The only one that is not numerical is the 'sick' label, which is a boolean data type. This is very easy to convert to numerical as we can denote 'True' as '1' and 'False' as '0'. Even categorical data has been converted to numerical values, which is what we need. The data also does not contain any missing data, and so we do not need to impute any data. Finally, we should standardize the data for each feature."
   ]
  },
  {
   "cell_type": "markdown",
   "metadata": {},
   "source": [
    "### Question 1.3  Before we begin our analysis we need to fix the field(s) that will be problematic. Specifically convert our boolean sick variable into a binary numeric target variable (values of either '0' or '1'), and then drop the original sick datafield from the dataframe."
   ]
  },
  {
   "cell_type": "code",
   "execution_count": 9,
   "metadata": {
    "scrolled": true
   },
   "outputs": [
    {
     "data": {
      "text/html": [
       "<div>\n",
       "<style scoped>\n",
       "    .dataframe tbody tr th:only-of-type {\n",
       "        vertical-align: middle;\n",
       "    }\n",
       "\n",
       "    .dataframe tbody tr th {\n",
       "        vertical-align: top;\n",
       "    }\n",
       "\n",
       "    .dataframe thead th {\n",
       "        text-align: right;\n",
       "    }\n",
       "</style>\n",
       "<table border=\"1\" class=\"dataframe\">\n",
       "  <thead>\n",
       "    <tr style=\"text-align: right;\">\n",
       "      <th></th>\n",
       "      <th>age</th>\n",
       "      <th>sex</th>\n",
       "      <th>cp</th>\n",
       "      <th>trestbps</th>\n",
       "      <th>chol</th>\n",
       "      <th>fbs</th>\n",
       "      <th>restecg</th>\n",
       "      <th>thalach</th>\n",
       "      <th>exang</th>\n",
       "      <th>oldpeak</th>\n",
       "      <th>slope</th>\n",
       "      <th>ca</th>\n",
       "      <th>thal</th>\n",
       "      <th>sick</th>\n",
       "    </tr>\n",
       "  </thead>\n",
       "  <tbody>\n",
       "    <tr>\n",
       "      <td>0</td>\n",
       "      <td>63</td>\n",
       "      <td>1</td>\n",
       "      <td>3</td>\n",
       "      <td>145</td>\n",
       "      <td>233</td>\n",
       "      <td>1</td>\n",
       "      <td>0</td>\n",
       "      <td>150</td>\n",
       "      <td>0</td>\n",
       "      <td>2.3</td>\n",
       "      <td>0</td>\n",
       "      <td>0</td>\n",
       "      <td>1</td>\n",
       "      <td>0</td>\n",
       "    </tr>\n",
       "    <tr>\n",
       "      <td>1</td>\n",
       "      <td>37</td>\n",
       "      <td>1</td>\n",
       "      <td>2</td>\n",
       "      <td>130</td>\n",
       "      <td>250</td>\n",
       "      <td>0</td>\n",
       "      <td>1</td>\n",
       "      <td>187</td>\n",
       "      <td>0</td>\n",
       "      <td>3.5</td>\n",
       "      <td>0</td>\n",
       "      <td>0</td>\n",
       "      <td>2</td>\n",
       "      <td>0</td>\n",
       "    </tr>\n",
       "    <tr>\n",
       "      <td>2</td>\n",
       "      <td>41</td>\n",
       "      <td>0</td>\n",
       "      <td>1</td>\n",
       "      <td>130</td>\n",
       "      <td>204</td>\n",
       "      <td>0</td>\n",
       "      <td>0</td>\n",
       "      <td>172</td>\n",
       "      <td>0</td>\n",
       "      <td>1.4</td>\n",
       "      <td>2</td>\n",
       "      <td>0</td>\n",
       "      <td>2</td>\n",
       "      <td>0</td>\n",
       "    </tr>\n",
       "    <tr>\n",
       "      <td>3</td>\n",
       "      <td>56</td>\n",
       "      <td>1</td>\n",
       "      <td>1</td>\n",
       "      <td>120</td>\n",
       "      <td>236</td>\n",
       "      <td>0</td>\n",
       "      <td>1</td>\n",
       "      <td>178</td>\n",
       "      <td>0</td>\n",
       "      <td>0.8</td>\n",
       "      <td>2</td>\n",
       "      <td>0</td>\n",
       "      <td>2</td>\n",
       "      <td>0</td>\n",
       "    </tr>\n",
       "    <tr>\n",
       "      <td>4</td>\n",
       "      <td>57</td>\n",
       "      <td>0</td>\n",
       "      <td>0</td>\n",
       "      <td>120</td>\n",
       "      <td>354</td>\n",
       "      <td>0</td>\n",
       "      <td>1</td>\n",
       "      <td>163</td>\n",
       "      <td>1</td>\n",
       "      <td>0.6</td>\n",
       "      <td>2</td>\n",
       "      <td>0</td>\n",
       "      <td>2</td>\n",
       "      <td>0</td>\n",
       "    </tr>\n",
       "    <tr>\n",
       "      <td>...</td>\n",
       "      <td>...</td>\n",
       "      <td>...</td>\n",
       "      <td>...</td>\n",
       "      <td>...</td>\n",
       "      <td>...</td>\n",
       "      <td>...</td>\n",
       "      <td>...</td>\n",
       "      <td>...</td>\n",
       "      <td>...</td>\n",
       "      <td>...</td>\n",
       "      <td>...</td>\n",
       "      <td>...</td>\n",
       "      <td>...</td>\n",
       "      <td>...</td>\n",
       "    </tr>\n",
       "    <tr>\n",
       "      <td>298</td>\n",
       "      <td>57</td>\n",
       "      <td>0</td>\n",
       "      <td>0</td>\n",
       "      <td>140</td>\n",
       "      <td>241</td>\n",
       "      <td>0</td>\n",
       "      <td>1</td>\n",
       "      <td>123</td>\n",
       "      <td>1</td>\n",
       "      <td>0.2</td>\n",
       "      <td>1</td>\n",
       "      <td>0</td>\n",
       "      <td>3</td>\n",
       "      <td>1</td>\n",
       "    </tr>\n",
       "    <tr>\n",
       "      <td>299</td>\n",
       "      <td>45</td>\n",
       "      <td>1</td>\n",
       "      <td>3</td>\n",
       "      <td>110</td>\n",
       "      <td>264</td>\n",
       "      <td>0</td>\n",
       "      <td>1</td>\n",
       "      <td>132</td>\n",
       "      <td>0</td>\n",
       "      <td>1.2</td>\n",
       "      <td>1</td>\n",
       "      <td>0</td>\n",
       "      <td>3</td>\n",
       "      <td>1</td>\n",
       "    </tr>\n",
       "    <tr>\n",
       "      <td>300</td>\n",
       "      <td>68</td>\n",
       "      <td>1</td>\n",
       "      <td>0</td>\n",
       "      <td>144</td>\n",
       "      <td>193</td>\n",
       "      <td>1</td>\n",
       "      <td>1</td>\n",
       "      <td>141</td>\n",
       "      <td>0</td>\n",
       "      <td>3.4</td>\n",
       "      <td>1</td>\n",
       "      <td>2</td>\n",
       "      <td>3</td>\n",
       "      <td>1</td>\n",
       "    </tr>\n",
       "    <tr>\n",
       "      <td>301</td>\n",
       "      <td>57</td>\n",
       "      <td>1</td>\n",
       "      <td>0</td>\n",
       "      <td>130</td>\n",
       "      <td>131</td>\n",
       "      <td>0</td>\n",
       "      <td>1</td>\n",
       "      <td>115</td>\n",
       "      <td>1</td>\n",
       "      <td>1.2</td>\n",
       "      <td>1</td>\n",
       "      <td>1</td>\n",
       "      <td>3</td>\n",
       "      <td>1</td>\n",
       "    </tr>\n",
       "    <tr>\n",
       "      <td>302</td>\n",
       "      <td>57</td>\n",
       "      <td>0</td>\n",
       "      <td>1</td>\n",
       "      <td>130</td>\n",
       "      <td>236</td>\n",
       "      <td>0</td>\n",
       "      <td>0</td>\n",
       "      <td>174</td>\n",
       "      <td>0</td>\n",
       "      <td>0.0</td>\n",
       "      <td>1</td>\n",
       "      <td>1</td>\n",
       "      <td>2</td>\n",
       "      <td>1</td>\n",
       "    </tr>\n",
       "  </tbody>\n",
       "</table>\n",
       "<p>303 rows × 14 columns</p>\n",
       "</div>"
      ],
      "text/plain": [
       "     age  sex  cp  trestbps  chol  fbs  restecg  thalach  exang  oldpeak  \\\n",
       "0     63    1   3       145   233    1        0      150      0      2.3   \n",
       "1     37    1   2       130   250    0        1      187      0      3.5   \n",
       "2     41    0   1       130   204    0        0      172      0      1.4   \n",
       "3     56    1   1       120   236    0        1      178      0      0.8   \n",
       "4     57    0   0       120   354    0        1      163      1      0.6   \n",
       "..   ...  ...  ..       ...   ...  ...      ...      ...    ...      ...   \n",
       "298   57    0   0       140   241    0        1      123      1      0.2   \n",
       "299   45    1   3       110   264    0        1      132      0      1.2   \n",
       "300   68    1   0       144   193    1        1      141      0      3.4   \n",
       "301   57    1   0       130   131    0        1      115      1      1.2   \n",
       "302   57    0   1       130   236    0        0      174      0      0.0   \n",
       "\n",
       "     slope  ca  thal  sick  \n",
       "0        0   0     1     0  \n",
       "1        0   0     2     0  \n",
       "2        2   0     2     0  \n",
       "3        2   0     2     0  \n",
       "4        2   0     2     0  \n",
       "..     ...  ..   ...   ...  \n",
       "298      1   0     3     1  \n",
       "299      1   0     3     1  \n",
       "300      1   2     3     1  \n",
       "301      1   1     3     1  \n",
       "302      1   1     2     1  \n",
       "\n",
       "[303 rows x 14 columns]"
      ]
     },
     "execution_count": 9,
     "metadata": {},
     "output_type": "execute_result"
    }
   ],
   "source": [
    "data.sick = data.sick.astype(int)\n",
    "data"
   ]
  },
  {
   "cell_type": "markdown",
   "metadata": {},
   "source": [
    "### Question 1.4 Now that we have a feel for the data-types for each of the variables, plot histograms of each field and attempt to ascertain how each variable performs (is it a binary, or limited selection, or does it follow a gradient? (Note: No need to describe each variable, but pick out a few you wish to highlight)"
   ]
  },
  {
   "cell_type": "code",
   "execution_count": 10,
   "metadata": {
    "scrolled": true
   },
   "outputs": [
    {
     "data": {
      "image/png": "[encoded data removed]",
      "text/plain": [
       "<Figure size 1152x864 with 15 Axes>"
      ]
     },
     "metadata": {
      "needs_background": "light"
     },
     "output_type": "display_data"
    }
   ],
   "source": [
    "f, a = plt.subplots(5, 3)\n",
    "\n",
    "a[0,0].hist(data[\"age\"], bins=20)\n",
    "a[0,0].set_xlabel(\"Age (yrs)\")\n",
    "a[0,0].set_ylabel(\"Count in Dataset\")\n",
    "a[0,0].set_title(\"Amount of People in a Particular Age Range\")\n",
    "\n",
    "a[0,1].hist(data[\"sex\"], bins=2)\n",
    "a[0,1].set_xlabel(\"Sex\")\n",
    "a[0,1].set_ylabel(\"Count in Dataset\")\n",
    "a[0,1].set_title(\"Number of Males and Females\")\n",
    "\n",
    "a[0, 2].hist(data[\"cp\"], bins=20)\n",
    "a[0, 2].set_xlabel(\"Chest Pain Type\")\n",
    "a[0, 2].set_ylabel(\"Count in Dataset\")\n",
    "a[0, 2].set_title(\"Amount of People with Particular Type of Chest Pain\")\n",
    "\n",
    "a[1, 0].hist(data[\"trestbps\"], bins=20)\n",
    "a[1, 0].set_xlabel(\"Blood Pressure (mm Hg)\")\n",
    "a[1, 0].set_ylabel(\"Count in Dataset\")\n",
    "a[1, 0].set_title(\"Amount of People with Particular Blood Pressure\")\n",
    "\n",
    "a[1, 1].hist(data[\"chol\"], bins=20)\n",
    "a[1, 1].set_xlabel(\"Cholesterol (mg/dl)\")\n",
    "a[1, 1].set_ylabel(\"Count in Dataset\")\n",
    "a[1, 1].set_title(\"Amount of People with Particular Cholesterol Levels\")\n",
    "\n",
    "a[1, 2].hist(data[\"fbs\"], bins=2)\n",
    "a[1, 2].set_xlabel(\"Fasted Blood Sugar Level Over 120 ml/dl\")\n",
    "a[1, 2].set_ylabel(\"Count in Dataset\")\n",
    "a[1, 2].set_title(\"Amount of People with Fasted Blood Sugar\\nLevel Over 120 mg/dl\")\n",
    "\n",
    "a[2, 0].hist(data[\"restecg\"], bins=3)\n",
    "a[2, 0].set_xlabel(\"Resting Electrocardiographic Result Category\")\n",
    "a[2, 0].set_ylabel(\"Count in Dataset\")\n",
    "a[2, 0].set_title(\"Amount of People with Particular ECG Levels\")\n",
    "\n",
    "a[2, 1].hist(data[\"thalach\"], bins=20)\n",
    "a[2, 1].set_xlabel(\"Maximum Heartrate\")\n",
    "a[2, 1].set_ylabel(\"Count in Dataset\")\n",
    "a[2, 1].set_title(\"Amount of People with Particular Maximum Heartrates\")\n",
    "\n",
    "a[2, 2].hist(data[\"exang\"], bins=2)\n",
    "a[2, 2].set_xlabel(\"Exercise Induced Angina\")\n",
    "a[2, 2].set_ylabel(\"Count in Dataset\")\n",
    "a[2, 2].set_title(\"Amount of People with Exercise Induced Angina\")\n",
    "\n",
    "a[3, 0].hist(data[\"oldpeak\"], bins=20)\n",
    "a[3, 0].set_xlabel(\"Depression Due to Exercise Relative to Rest\")\n",
    "a[3, 0].set_ylabel(\"Count in Dataset\")\n",
    "a[3, 0].set_title(\"Amount of People with Depression Induced by \\nExercise\")\n",
    "\n",
    "a[3, 1].hist(data[\"slope\"], bins=3)\n",
    "a[3, 1].set_xlabel(\"Slope of Peak Exercise ST Segment\")\n",
    "a[3, 1].set_ylabel(\"Count in Dataset\")\n",
    "a[3, 1].set_title(\"Amount of People with Particular Slope of \\nPeak Exercise Category\")\n",
    "\n",
    "a[3, 2].hist(data[\"ca\"], bins=4)\n",
    "a[3, 2].set_xlabel(\"Category of Number of Major Vessels\")\n",
    "a[3, 2].set_ylabel(\"Count in Dataset\")\n",
    "a[3, 2].set_title(\"Amount of People with Particular Category of Number of \\nMajor Vessels\")\n",
    "\n",
    "a[4, 0].hist(data[\"thal\"], bins=7)\n",
    "a[4, 0].set_xlabel(\"Thal\")\n",
    "a[4, 0].set_ylabel(\"Count in Dataset\")\n",
    "a[4, 0].set_title(\"Amount of People with Thal\")\n",
    "\n",
    "f.set_figheight(12)\n",
    "f.set_figwidth(16)\n",
    "plt.subplots_adjust(hspace=0.8)\n",
    "plt.show()"
   ]
  },
  {
   "cell_type": "markdown",
   "metadata": {},
   "source": [
    "Some observations we observe from the dataset \n",
    "\n",
    "-Age: The age variable follows a gradient, and it is approxiamtely normally distributed with the mid-50s being the mean. \n",
    "\n",
    "-Sex: The sex variable is a binary variable. We can see that there is around twice as many female records than male records. \n",
    "\n",
    "-Type of chest pain: The type of chest pain is neither a binary variable nor does it follow a gradient. It is a categorical variable."
   ]
  },
  {
   "cell_type": "markdown",
   "metadata": {},
   "source": [
    "### Question 1.5 We also want to make sure we are dealing with a balanced dataset. In this case, we want to confirm whether or not we have an equitable number of  sick and healthy individuals to ensure that our classifier will have a sufficiently balanced dataset to adequately classify the two. Plot a histogram specifically of the sick target, and conduct a count of the number of sick and healthy individuals and report on the results: "
   ]
  },
  {
   "cell_type": "code",
   "execution_count": 11,
   "metadata": {
    "scrolled": false
   },
   "outputs": [
    {
     "name": "stdout",
     "output_type": "stream",
     "text": [
      "Number of sick people: 138\n",
      "Number of healthy people: 165\n"
     ]
    },
    {
     "data": {
      "image/png": "[encoded data removed]",
      "text/plain": [
       "<Figure size 432x288 with 1 Axes>"
      ]
     },
     "metadata": {
      "needs_background": "light"
     },
     "output_type": "display_data"
    }
   ],
   "source": [
    "count_sick = data[data[\"sick\"] == 1].shape[0]\n",
    "count_not_sick = data[data[\"sick\"] == 0].shape[0]\n",
    "y = [count_not_sick, count_sick]\n",
    "plt.bar(x=[\"not sick\", \"sick\"], height=y, width=0.5)\n",
    "plt.title(\"Count of Sick and Healthy Individuals\")\n",
    "plt.xlabel(\"Healthiness\")\n",
    "plt.ylabel(\"Number of Individuals\")\n",
    "print(\"Number of sick people: {}\".format(count_sick))\n",
    "print(\"Number of healthy people: {}\".format(count_not_sick))"
   ]
  },
  {
   "cell_type": "markdown",
   "metadata": {},
   "source": [
    "In this dataset, there are 138 sick individuals and 165 healthy individuals. There is an approximately equal number of individuals in both categories, so the dataset is balanced, and we can use this dataset to adequately classify the two."
   ]
  },
  {
   "cell_type": "markdown",
   "metadata": {},
   "source": [
    "### Question  1.6 Balanced datasets are important to ensure that classifiers train adequately and don't overfit, however arbitrary balancing of a dataset might introduce its own issues. Discuss some of the problems that might arise by artificially balancing a dataset."
   ]
  },
  {
   "cell_type": "markdown",
   "metadata": {},
   "source": [
    "Artificially balancing a dataset comes in many flavors, and there are strengths and limitations to each method. First, we can downsample the category that has more samples so that all the categories end up having the same quantity. The disadvantage of this method is that it is essentially throwing out real data that could be used. Another method is to synthetically generate data for the category that has fewer samples. The disadvantage to this method is that the synthetically generated data depends fully on the model that is used to generate the data. Thus, if the model is not strong, then the generated data will not be representative of the real data, and thus the final model that uses the synthetic data will not predict well, because it is overfitted. Also, the synthetically generated data may not generate corner cases."
   ]
  },
  {
   "cell_type": "markdown",
   "metadata": {},
   "source": [
    "### Question 1.9 Now that we have our dataframe prepared let's start analyzing our data. For this next question let's look at the correlations of our variables to our target value. First, map out the correlations between the values, and then discuss the relationships you observe. Do some research on the variables to understand why they may relate to the observed corellations. Intuitively, why do you think some variables correlate more highly than others (hint: one possible approach you can use the sns heatmap function to map the corr() method)?"
   ]
  },
  {
   "cell_type": "code",
   "execution_count": 12,
   "metadata": {
    "scrolled": false
   },
   "outputs": [
    {
     "data": {
      "text/plain": [
       "<matplotlib.axes._subplots.AxesSubplot at 0x1f204dcb708>"
      ]
     },
     "execution_count": 12,
     "metadata": {},
     "output_type": "execute_result"
    },
    {
     "data": {
      "image/png": "[encoded data removed]",
      "text/plain": [
       "<Figure size 432x288 with 2 Axes>"
      ]
     },
     "metadata": {
      "needs_background": "light"
     },
     "output_type": "display_data"
    }
   ],
   "source": [
    "import seaborn as sns\n",
    "sns.heatmap(data.corr(method=\"pearson\"))"
   ]
  },
  {
   "cell_type": "markdown",
   "metadata": {},
   "source": [
    "POSITIVE CORRELATION\n",
    "\n",
    "There is a positive correlation between maximum heartrate achieved (thalach) and slope of the peak exercise ST segment (slope). Slope of the peak exercise ST segment refers to the activity inside the heart. If the slope is decreasing, this means that blood was flowing back into the heart when it was trying to pump blood out. Alternatively, if the slope is increasing, blood was flowing out constantly when the heart tries to pump blood out. This is linked to maximum heartrate, because those whose hearts are allowing blood to flow back in, probably have weaker hearts and are thus more likely to have a lower maximum heartrate.\n",
    "\n",
    "There is a positive correlation between a patient being sick (sick) and their number of major vessels colored by fluoroscopy (ca). Fluorscopy is the process of watching movement of structures inside the body. In this case, we are looking at the blood vessels. More seen blood vessels probably correlates to an individual's blood vessels clotting, thus resulting in sickness.\n",
    "\n",
    "There is a positive correlation between exercise induced angina (exang) and sick (sick). This is expected, as exercise induced angina is a type of chest pain, which correlates to sickness.\n",
    "\n",
    "There is a positive correlation between depression induced by exercise relative to rest (oldpeak) and sick (sick). This is abnormal, because people usually don't get depressed when they exercise. Thus, this behavior is positively correlated with sickness.\n",
    "\n",
    "\n",
    "NEGATIVE CORRELATION\n",
    "\n",
    "There is a negative correlation between the slope of the peak exercise ST segment (slope) and depression induced by exercise relative to rest (oldpeak). As mentioned earlier, a downsloping ST segment is unhealthy. Thus, we see a relationship between downsloping segments and depression induced by exercise.\n",
    "\n",
    "There is a negative correlation between the slope of the peak exercise ST segment (slope) and sick (sick). Once again, a downsloping ST segment is unhealthy, which corresponds to a, individual more likely to be sick.\n",
    "\n",
    "There is a negative correlation between maximum heartrate achieved (thalach) and sick (sick). If the individual is healthy, the maximum heartrate is higher, and vice versa.\n",
    "\n"
   ]
  },
  {
   "cell_type": "markdown",
   "metadata": {},
   "source": [
    "## [30 Points] Part 2. Prepare the Data "
   ]
  },
  {
   "cell_type": "markdown",
   "metadata": {},
   "source": [
    "Before running our various learning methods, we need to do some additional prep to finalize our data. Specifically you'll have to cut the classification target from the data that will be used to classify, and then you'll have to divide the dataset into training and testing cohorts.\n",
    "\n",
    "Specifically, we're going to ask you to prepare 2 batches of data: 1. Will simply be the raw numeric data that hasn't gone through any additional pre-processing. The other, will be data that you pipeline using your own selected methods. We will then feed both of these datasets into a classifier to showcase just how important this step can be!"
   ]
  },
  {
   "cell_type": "markdown",
   "metadata": {},
   "source": [
    "### Question 2.1 Save the target column as a separate array and then drop it from the dataframe. "
   ]
  },
  {
   "cell_type": "code",
   "execution_count": 13,
   "metadata": {
    "scrolled": false
   },
   "outputs": [],
   "source": [
    "if \"sick\" in data.columns:\n",
    "    target = np.array(data[\"sick\"])\n",
    "    data = data.drop(columns=[\"sick\"])"
   ]
  },
  {
   "cell_type": "markdown",
   "metadata": {},
   "source": [
    "### Question 2.2 First Create your 'Raw' unprocessed training data by dividing your dataframe into training and testing cohorts, with your training cohort consisting of 70% of your total dataframe (hint: use the train_test_split method) Output the resulting shapes of your training and testing samples to confirm that your split was successful."
   ]
  },
  {
   "cell_type": "code",
   "execution_count": 14,
   "metadata": {
    "scrolled": true
   },
   "outputs": [
    {
     "name": "stdout",
     "output_type": "stream",
     "text": [
      "The training features set has 212 rows and 13 columns.\n",
      "The test features set has 91 rows and 13 columns.\n",
      "The training targets set has 212 rows and 1 column.\n",
      "The test targets set has 91 rows and 1 column.\n"
     ]
    }
   ],
   "source": [
    "raw_X_train, raw_X_test, raw_y_train, raw_y_test = train_test_split(data, target, test_size=0.3, random_state=42)\n",
    "print(\"The training features set has {} rows and {} columns.\".format(raw_X_train.shape[0], raw_X_train.shape[1]))\n",
    "print(\"The test features set has {} rows and {} columns.\".format(raw_X_test.shape[0], raw_X_test.shape[1]))\n",
    "print(\"The training targets set has {} rows and 1 column.\".format(raw_y_train.shape[0]))\n",
    "print(\"The test targets set has {} rows and 1 column.\".format(raw_y_test.shape[0]))"
   ]
  },
  {
   "cell_type": "markdown",
   "metadata": {},
   "source": [
    "### Question 2.3 Now create a pipeline to conduct any additional preparation of the data you would like. Output the resulting array to ensure it was processed correctly."
   ]
  },
  {
   "cell_type": "code",
   "execution_count": 15,
   "metadata": {
    "scrolled": false
   },
   "outputs": [
    {
     "data": {
      "text/plain": [
       "array([[ 0.9521966 ,  0.76395577, -0.25633371, ...,  1.        ,\n",
       "         0.        ,  0.        ],\n",
       "       [-1.91531289, -0.09273778,  0.07219949, ...,  0.        ,\n",
       "         1.        ,  0.        ],\n",
       "       [-1.47415758, -0.09273778, -0.81677269, ...,  0.        ,\n",
       "         1.        ,  0.        ],\n",
       "       ...,\n",
       "       [ 1.50364073,  0.70684287, -1.029353  , ...,  0.        ,\n",
       "         0.        ,  1.        ],\n",
       "       [ 0.29046364, -0.09273778, -2.2275329 , ...,  0.        ,\n",
       "         0.        ,  1.        ],\n",
       "       [ 0.29046364, -0.09273778, -0.19835726, ...,  0.        ,\n",
       "         1.        ,  0.        ]])"
      ]
     },
     "execution_count": 15,
     "metadata": {},
     "output_type": "execute_result"
    }
   ],
   "source": [
    "from sklearn.pipeline import Pipeline\n",
    "from sklearn.preprocessing import StandardScaler, OneHotEncoder\n",
    "from sklearn.compose import ColumnTransformer\n",
    "\n",
    "# categorical: sex, cp, restecg, slope, thal\n",
    "# boolean: fbs, exang\n",
    "# numerical: age, trestbps, chol, thalach, oldpeak, ca\n",
    "\n",
    "# Make dataframe with categorical features and numerical features\n",
    "cat_columns = []\n",
    "data_num = data.copy(deep=True)\n",
    "\n",
    "num_columns = list(data_num.columns)\n",
    "if \"sex\" in num_columns:\n",
    "    data_num.drop([\"sex\"], axis=1, inplace=True)\n",
    "    cat_columns.append(\"sex\")\n",
    "\n",
    "if \"cp\" in num_columns:\n",
    "    data_num.drop([\"cp\"], axis=1, inplace=True)\n",
    "    cat_columns.append(\"cp\")\n",
    "\n",
    "if \"restecg\" in num_columns:\n",
    "    data_num.drop([\"restecg\"], axis=1, inplace=True)\n",
    "    cat_columns.append(\"restecg\")\n",
    "\n",
    "if \"slope\" in num_columns:\n",
    "    data_num.drop([\"slope\"], axis=1, inplace=True)\n",
    "    cat_columns.append(\"slope\")\n",
    "\n",
    "if \"thal\" in num_columns:\n",
    "    data_num.drop([\"thal\"], axis=1, inplace=True)\n",
    "    cat_columns.append(\"thal\")\n",
    "\n",
    "if \"fbs\" in num_columns:\n",
    "    data_num.drop([\"fbs\"], axis=1, inplace=True)\n",
    "\n",
    "if \"exang\" in num_columns:\n",
    "    data_num.drop([\"exang\"], axis=1, inplace=True)\n",
    "    \n",
    "num_pipeline = Pipeline([\n",
    "    ('std_scaler', StandardScaler())\n",
    "])\n",
    "\n",
    "num_columns = list(data_num)\n",
    "\n",
    "full_pipeline = ColumnTransformer([\n",
    "    (\"num\", num_pipeline, num_columns),\n",
    "    (\"cat\", OneHotEncoder(categories=\"auto\"), cat_columns),\n",
    "])\n",
    "\n",
    "data_prepared = full_pipeline.fit_transform(data)\n",
    "data_prepared"
   ]
  },
  {
   "cell_type": "markdown",
   "metadata": {},
   "source": [
    "### Question 2.4 Now create a separate, processed training data set by dividing your processed dataframe into training and testing cohorts, using the same settings as Q2.2 (REMEMBER TO USE DIFFERENT TRAINING AND TESTING VARIABLES SO AS NOT TO OVERWRITE YOUR PREVIOUS DATA). Output the resulting shapes of your training and testing samples to confirm that your split was successful, and describe what differences there are between your two training datasets."
   ]
  },
  {
   "cell_type": "code",
   "execution_count": 16,
   "metadata": {
    "scrolled": false
   },
   "outputs": [
    {
     "name": "stdout",
     "output_type": "stream",
     "text": [
      "The training features set has 212 rows and 22 columns.\n",
      "The test features set has 91 rows and 22 columns.\n",
      "The training targets set has 212 rows and 1 column.\n",
      "The test targets set has 91 rows and 1 column.\n"
     ]
    }
   ],
   "source": [
    "X_train, X_test, y_train, y_test = train_test_split(data_prepared, target, test_size=0.3, random_state=42)\n",
    "print(\"The training features set has {} rows and {} columns.\".format(X_train.shape[0], X_train.shape[1]))\n",
    "print(\"The test features set has {} rows and {} columns.\".format(X_test.shape[0], X_test.shape[1]))\n",
    "print(\"The training targets set has {} rows and 1 column.\".format(y_train.shape[0]))\n",
    "print(\"The test targets set has {} rows and 1 column.\".format(y_test.shape[0]))"
   ]
  },
  {
   "cell_type": "markdown",
   "metadata": {},
   "source": [
    "The prepared dataset has extra columns. This is because we fed the unprocessed data through the pipeline, which includes a OneHotEncoder. This process separates categorical features into boolean values. Say a categorical feature has three possible values. Then, the encoder would replace the original column with three columns, each with the name of the value. Then, they would be set to 0 or 1 accordingly. "
   ]
  },
  {
   "cell_type": "markdown",
   "metadata": {},
   "source": [
    "## [50 Points] Part 3. Learning Methods "
   ]
  },
  {
   "cell_type": "markdown",
   "metadata": {},
   "source": [
    "We're finally ready to actually begin classifying our data. To do so we'll employ multiple learning methods and compare result."
   ]
  },
  {
   "cell_type": "markdown",
   "metadata": {},
   "source": [
    "### Linear Decision Boundary Methods "
   ]
  },
  {
   "cell_type": "markdown",
   "metadata": {},
   "source": [
    "### SVM (Support Vector Machine)"
   ]
  },
  {
   "cell_type": "markdown",
   "metadata": {},
   "source": [
    "A Support Vector Machine (SVM) is a discriminative classifier formally defined by a separating hyperplane. In other words, given labeled training data (supervised learning), the algorithm outputs an optimal hyperplane which categorizes new examples. In two dimentional space this hyperplane is a line dividing a plane in two parts where in each class lay in either side."
   ]
  },
  {
   "cell_type": "markdown",
   "metadata": {},
   "source": [
    "### Question 3.1.1 Implement a Support Vector Machine classifier on your RAW dataset. Review the [SVM Documentation](https://scikit-learn.org/stable/modules/generated/sklearn.svm.SVC.html) for how to implement a model. For this implementation you can simply use the default settings, but set probability = True."
   ]
  },
  {
   "cell_type": "code",
   "execution_count": 17,
   "metadata": {
    "scrolled": false
   },
   "outputs": [
    {
     "data": {
      "text/plain": [
       "SVC(C=1.0, break_ties=False, cache_size=200, class_weight=None, coef0=0.0,\n",
       "    decision_function_shape='ovr', degree=3, gamma='scale', kernel='rbf',\n",
       "    max_iter=-1, probability=True, random_state=None, shrinking=True, tol=0.001,\n",
       "    verbose=False)"
      ]
     },
     "execution_count": 17,
     "metadata": {},
     "output_type": "execute_result"
    }
   ],
   "source": [
    "# SVM\n",
    "svm_raw_clf = SVC(probability=True, gamma=\"scale\")\n",
    "svm_raw_clf.fit(raw_X_train, raw_y_train)"
   ]
  },
  {
   "cell_type": "markdown",
   "metadata": {},
   "source": [
    "### Question 3.1.2 Report the accuracy, precision, recall, F1 Score, and confusion matrix of the resulting model."
   ]
  },
  {
   "cell_type": "code",
   "execution_count": 18,
   "metadata": {
    "scrolled": false
   },
   "outputs": [
    {
     "name": "stdout",
     "output_type": "stream",
     "text": [
      "Accuracy: 0.7032967032967034\n",
      "Precision: 0.7916666666666666\n",
      "Recall: 0.4634146341463415\n",
      "F1: 0.5846153846153846\n",
      "Confusion Matrix: \n",
      "[[45  5]\n",
      " [22 19]]\n"
     ]
    }
   ],
   "source": [
    "from sklearn import metrics\n",
    "from sklearn.linear_model import LogisticRegression\n",
    "\n",
    "svm_raw_preds = svm_raw_clf.predict(raw_X_test)\n",
    "\n",
    "print(\"Accuracy: {}\".format(metrics.accuracy_score(raw_y_test, svm_raw_preds)))\n",
    "print(\"Precision: {}\".format(metrics.precision_score(raw_y_test, svm_raw_preds)))\n",
    "print(\"Recall: {}\".format(metrics.recall_score(raw_y_test, svm_raw_preds)))\n",
    "print(\"F1: {}\".format(metrics.f1_score(raw_y_test, svm_raw_preds)))\n",
    "print(\"Confusion Matrix: \\n{}\".format(metrics.confusion_matrix(raw_y_test, svm_raw_preds)))\n"
   ]
  },
  {
   "cell_type": "markdown",
   "metadata": {},
   "source": [
    "### Question 3.1.3 Discuss what each measure is reporting, why they are different, and why are each of these measures is significant. Explore why we might choose to evaluate the performance of differing models differently based on these factors. Try to give some specific examples of scenarios in which you might value one of these measures over the others."
   ]
  },
  {
   "cell_type": "markdown",
   "metadata": {},
   "source": [
    "Accuracy is a simple measure of the percentage of correct classifications or predictions. We use this method to evaluate the performance of a model when neither false negatives nor false positives are more costly than the other. For example, a classifier that predict whether an individual is male or female would depend on accuracy the best. Both false negatives and false positives are equally costly, in this situation. \n",
    "\n",
    "Precision is the measure of the ratio of true positives to the sum of true positives and false positives. This means that we are looking at the percentage of samples that we classified as true that were correct. We use this method to evaluate the performance of a model, when we want to get a high accuracy when only looking at the true classifications, ignoring all of the false classifications. For example, security techniques such as facial recognition would depend highly on precision. This is because we want to minimize the false positive rate, or in other words, minimize the rate at which the security system fails and grants access to someone who is not authorized. On the other hand, we won't care if we have a high rate of false negatives, or if it doesn't grant access to someone who is authorized, because there may be alternate security methods, like a password.\n",
    "\n",
    "Recall is the measure of the ratio of true positives to the sum of true positives and false negatives. This means that we are looking at the percentage of samples that are actually true that were classified true. We use this method to evaluate the performance of a model, when we want to get a high accuracy when looking at samples that actually have the true classification. For example, this project (classifying an individual as sick or not) would depend highly on recall score. We care in particular about how we well can identify sick individuals, but we don't care as much about a person who is healthy and incorrectly classified as sick (false positives), because some other tests will reveal that they are healthy.\n",
    "\n",
    "F1 is the weighted average of the recall score and the precision score. It is defined as two times the product of the recall and precision scores divided by the sum of the recall and precision scores. We use this metric typically for the same reasons as accuracy - when neither classifications are more costly than the other. However, F1 score provides a better metric than accuracy, because it takes into consideration the balance between the classification rates. For example, consider a fraud detection system. The accuracy may be good, meaning that it identifies true positives and true negatives, in total, very well. However, if we just look at the recall score, we may see that it is much lower than the precision. This means that the false negative rates are very high and that fraud detection is actually missing a lot of the fraud that is happening. The accuracy score was high because there was an imbalance in the score - the high precision score was covering up the low recall score. This does not mean that we should just look at recall score though. If the precision was low (false positive rates were high), it would be frustrating for the user trying to make a transaction if the model was constantly accusing him or her of fraud, when it actually isn't. Thus, F1 score is better metric to evaluate a model than accuracy, as it takes into consideration the imbalance of the precision and recall scores.\n",
    "\n",
    "The confusion matrix simply represents the count of each type of classification that we made in our test set. The values of the matrix, from left to right, top to bottom, represent true positives, false positives, false negatives and true negatives."
   ]
  },
  {
   "cell_type": "markdown",
   "metadata": {},
   "source": [
    "### Question 3.1.4 Plot a Receiver Operating Characteristic curve, or ROC curve, and describe what it is and what the results indicate"
   ]
  },
  {
   "cell_type": "code",
   "execution_count": 19,
   "metadata": {
    "scrolled": false
   },
   "outputs": [
    {
     "data": {
      "text/plain": [
       "<sklearn.metrics._plot.roc_curve.RocCurveDisplay at 0x1f204f0bac8>"
      ]
     },
     "execution_count": 19,
     "metadata": {},
     "output_type": "execute_result"
    },
    {
     "data": {
      "image/png": "[encoded data removed]",
      "text/plain": [
       "<Figure size 432x288 with 1 Axes>"
      ]
     },
     "metadata": {
      "needs_background": "light"
     },
     "output_type": "display_data"
    }
   ],
   "source": [
    "metrics.plot_roc_curve(svm_raw_clf, raw_X_test, raw_y_test)"
   ]
  },
  {
   "cell_type": "markdown",
   "metadata": {},
   "source": [
    "The ROC curve, or Receiver Operating Characteristics curve, is a graph that relates the false positive rate against the true positive rate. The false positive rate is defined as the number of false positives divided by the sum of true positives and false positives. In other words, we can ask the question: out of all samples we classified as positive, regardless of it being correct or incorrect, how many did we classify incorrectly? The true positive rate is defined as the number of true positives divided by the sum of true positives and false negatives. In other words, we can ask the question: out of all samples that had a true label of positive, how many did we correctly classify? This is the same as recall score. These two values relate in that if we have a high true positive rate, it must mean that we also have some falsely classified positive samples. Thus, we will also get a high false positive rate, and vice versa. However, we can measure how well the model performs by measuring the area under the curve. If the area under the curve is higher, we are better at correctly classifying samples. "
   ]
  },
  {
   "cell_type": "markdown",
   "metadata": {},
   "source": [
    "### Question 3.1.5 Rerun, using the exact same settings, only this time use your processed data as inputs. "
   ]
  },
  {
   "cell_type": "code",
   "execution_count": 20,
   "metadata": {
    "scrolled": false
   },
   "outputs": [
    {
     "data": {
      "text/plain": [
       "SVC(C=1.0, break_ties=False, cache_size=200, class_weight=None, coef0=0.0,\n",
       "    decision_function_shape='ovr', degree=3, gamma='scale', kernel='rbf',\n",
       "    max_iter=-1, probability=True, random_state=None, shrinking=True, tol=0.001,\n",
       "    verbose=False)"
      ]
     },
     "execution_count": 20,
     "metadata": {},
     "output_type": "execute_result"
    }
   ],
   "source": [
    "svm_clf = SVC(probability=True, gamma=\"scale\")\n",
    "svm_clf.fit(X_train, y_train)"
   ]
  },
  {
   "cell_type": "markdown",
   "metadata": {},
   "source": [
    "### Question 3.1.6 Report the accuracy, precision, recall, F1 Score, confusion matrix, and plot the ROC Curve of the resulting model."
   ]
  },
  {
   "cell_type": "code",
   "execution_count": 21,
   "metadata": {
    "scrolled": false
   },
   "outputs": [
    {
     "name": "stdout",
     "output_type": "stream",
     "text": [
      "Accuracy: 0.8681318681318682\n",
      "Precision: 0.8372093023255814\n",
      "Recall: 0.8780487804878049\n",
      "F1: 0.8571428571428572\n",
      "Confusion Matrix: \n",
      "[[43  7]\n",
      " [ 5 36]]\n"
     ]
    },
    {
     "data": {
      "text/plain": [
       "<sklearn.metrics._plot.roc_curve.RocCurveDisplay at 0x1f204f60e48>"
      ]
     },
     "execution_count": 21,
     "metadata": {},
     "output_type": "execute_result"
    },
    {
     "data": {
      "image/png": "[encoded data removed]",
      "text/plain": [
       "<Figure size 432x288 with 1 Axes>"
      ]
     },
     "metadata": {
      "needs_background": "light"
     },
     "output_type": "display_data"
    }
   ],
   "source": [
    "svm_preds = svm_clf.predict(X_test)\n",
    "\n",
    "print(\"Accuracy: {}\".format(metrics.accuracy_score(y_test, svm_preds)))\n",
    "print(\"Precision: {}\".format(metrics.precision_score(y_test, svm_preds)))\n",
    "print(\"Recall: {}\".format(metrics.recall_score(y_test, svm_preds)))\n",
    "print(\"F1: {}\".format(metrics.f1_score(y_test, svm_preds)))\n",
    "print(\"Confusion Matrix: \\n{}\".format(metrics.confusion_matrix(y_test, svm_preds)))\n",
    "\n",
    "metrics.plot_roc_curve(svm_clf, X_test, y_test)"
   ]
  },
  {
   "cell_type": "markdown",
   "metadata": {},
   "source": [
    "### Question 3.1.7 Hopefully you've noticed a dramatic change in performance. Discuss why you think your new data has had such a dramatic impact. "
   ]
  },
  {
   "cell_type": "markdown",
   "metadata": {},
   "source": [
    "As mentioned in 2.4, our OneHotEncoder added extra columns to our dataframe that represent each value of the cateogical features. In our unprocessed dataset, we left the columns in their unencoded form, and thus the algorithm was trying to find some sort of linear relationship between the values, when it really didn't exist. After OneHotEncoding, the algorithm was able to use the new boolean columns as a better predictor for the label. Thus, our new model has a much improved performance. "
   ]
  },
  {
   "cell_type": "markdown",
   "metadata": {},
   "source": [
    "### Question 3.1.8 Rerun your SVM, but now modify your model parameter kernel to equal 'linear'. Again report your Accuracy, Precision, Recall, F1 scores, and Confusion matrix and plot the new ROC curve.  "
   ]
  },
  {
   "cell_type": "code",
   "execution_count": 22,
   "metadata": {
    "scrolled": false
   },
   "outputs": [
    {
     "name": "stdout",
     "output_type": "stream",
     "text": [
      "Accuracy: 0.8241758241758241\n",
      "Precision: 0.7906976744186046\n",
      "Recall: 0.8292682926829268\n",
      "F1: 0.8095238095238095\n",
      "Confusion Matrix: \n",
      "[[41  9]\n",
      " [ 7 34]]\n"
     ]
    },
    {
     "data": {
      "text/plain": [
       "<sklearn.metrics._plot.roc_curve.RocCurveDisplay at 0x1f205026288>"
      ]
     },
     "execution_count": 22,
     "metadata": {},
     "output_type": "execute_result"
    },
    {
     "data": {
      "image/png": "[encoded data removed]",
      "text/plain": [
       "<Figure size 432x288 with 1 Axes>"
      ]
     },
     "metadata": {
      "needs_background": "light"
     },
     "output_type": "display_data"
    }
   ],
   "source": [
    "# SVM\n",
    "svm_linear_clf = SVC(kernel=\"linear\", probability=True, gamma=\"scale\")\n",
    "svm_linear_clf.fit(X_train, y_train)\n",
    "\n",
    "svm_linear_preds = svm_linear_clf.predict(X_test)\n",
    "\n",
    "print(\"Accuracy: {}\".format(metrics.accuracy_score(y_test, svm_linear_preds)))\n",
    "print(\"Precision: {}\".format(metrics.precision_score(y_test, svm_linear_preds)))\n",
    "print(\"Recall: {}\".format(metrics.recall_score(y_test, svm_linear_preds)))\n",
    "print(\"F1: {}\".format(metrics.f1_score(y_test, svm_linear_preds)))\n",
    "print(\"Confusion Matrix: \\n{}\".format(metrics.confusion_matrix(y_test, svm_linear_preds)))\n",
    "\n",
    "metrics.plot_roc_curve(svm_linear_clf, X_test, y_test)"
   ]
  },
  {
   "cell_type": "markdown",
   "metadata": {},
   "source": [
    "### Question 3.1.9 Explain the what the new results you've achieved mean. Read the documentation to understand what you've changed about your model and explain why changing that input parameter might impact the results in the manner you've observed."
   ]
  },
  {
   "cell_type": "markdown",
   "metadata": {},
   "source": [
    "By changing the kernel type to linear, we change the way that the model is trained by adjusting the way it comes up with the decision boundaries. The default parameter is \"rbf\", which stands for Radial Basis Function. This means that the model's decision boundaries are determined by radial functions, or those that are based on a polar coordinate system. Boundaries of this type will be more curved and rounded. In contrast, the \"linear\" parameter means that the model's decision boundaries are linear or simply straight lines. We can see that a linear kernel type actually performs worse, as each of its evaluation metrics were lower than that of the \"rbf\" kernel type. However, each dataset is different, and different kernel types may perform better on different datasets."
   ]
  },
  {
   "cell_type": "markdown",
   "metadata": {},
   "source": [
    "### Logistic Regression"
   ]
  },
  {
   "cell_type": "markdown",
   "metadata": {},
   "source": [
    "Knowing that we're dealing with a linearly configured dataset, let's now try another classifier that's well known for handling linear models: Logistic Regression. Logistic regression is a statistical model that in its basic form uses a logistic function to model a binary dependent variable."
   ]
  },
  {
   "cell_type": "markdown",
   "metadata": {},
   "source": [
    "### Question 3.2.1 Implement a Logistical Regression Classifier. Review the [Logistical Regression Documentation](https://scikit-learn.org/stable/modules/generated/sklearn.linear_model.LogisticRegression.html) for how to implement the model. For this initial model set the solver = 'sag' and max_iter= 10). Report on the same four metrics as the SVM and graph the resulting ROC curve."
   ]
  },
  {
   "cell_type": "code",
   "execution_count": 23,
   "metadata": {
    "scrolled": false
   },
   "outputs": [
    {
     "name": "stdout",
     "output_type": "stream",
     "text": [
      "Accuracy: 0.8461538461538461\n",
      "Precision: 0.813953488372093\n",
      "Recall: 0.8536585365853658\n",
      "F1: 0.8333333333333333\n",
      "Confusion Matrix: \n",
      "[[42  8]\n",
      " [ 6 35]]\n"
     ]
    },
    {
     "name": "stderr",
     "output_type": "stream",
     "text": [
      "C:\\Users\\shado\\Anaconda3\\lib\\site-packages\\sklearn\\linear_model\\_sag.py:330: ConvergenceWarning: The max_iter was reached which means the coef_ did not converge\n",
      "  \"the coef_ did not converge\", ConvergenceWarning)\n"
     ]
    },
    {
     "data": {
      "text/plain": [
       "<sklearn.metrics._plot.roc_curve.RocCurveDisplay at 0x1f205048708>"
      ]
     },
     "execution_count": 23,
     "metadata": {},
     "output_type": "execute_result"
    },
    {
     "data": {
      "image/png": "[encoded data removed]",
      "text/plain": [
       "<Figure size 432x288 with 1 Axes>"
      ]
     },
     "metadata": {
      "needs_background": "light"
     },
     "output_type": "display_data"
    }
   ],
   "source": [
    "# Logistic Regression\n",
    "log_reg_clf = LogisticRegression(random_state=42, solver=\"sag\", max_iter=10)\n",
    "log_reg_clf.fit(X_train, y_train)\n",
    "\n",
    "log_reg_preds = log_reg_clf.predict(X_test)\n",
    "\n",
    "print(\"Accuracy: {}\".format(metrics.accuracy_score(y_test, log_reg_preds)))\n",
    "print(\"Precision: {}\".format(metrics.precision_score(y_test, log_reg_preds)))\n",
    "print(\"Recall: {}\".format(metrics.recall_score(y_test, log_reg_preds)))\n",
    "print(\"F1: {}\".format(metrics.f1_score(y_test, log_reg_preds)))\n",
    "print(\"Confusion Matrix: \\n{}\".format(metrics.confusion_matrix(y_test, log_reg_preds)))\n",
    "\n",
    "metrics.plot_roc_curve(log_reg_clf, X_test, y_test)"
   ]
  },
  {
   "cell_type": "markdown",
   "metadata": {},
   "source": [
    "### Question 3.2.2 Did you notice that when you ran the previous model you got the following warning: \"ConvergenceWarning: The max_iter was reached which means the coef_ did not converge\". Check the documentation and see if you can implement a fix for this problem, and again report your results."
   ]
  },
  {
   "cell_type": "code",
   "execution_count": 24,
   "metadata": {
    "scrolled": false
   },
   "outputs": [
    {
     "name": "stdout",
     "output_type": "stream",
     "text": [
      "Accuracy: 0.8351648351648352\n",
      "Precision: 0.8095238095238095\n",
      "Recall: 0.8292682926829268\n",
      "F1: 0.8192771084337348\n",
      "Confusion Matrix: \n",
      "[[42  8]\n",
      " [ 7 34]]\n"
     ]
    },
    {
     "data": {
      "text/plain": [
       "<sklearn.metrics._plot.roc_curve.RocCurveDisplay at 0x1f2050b7408>"
      ]
     },
     "execution_count": 24,
     "metadata": {},
     "output_type": "execute_result"
    },
    {
     "data": {
      "image/png": "[encoded data removed]",
      "text/plain": [
       "<Figure size 432x288 with 1 Axes>"
      ]
     },
     "metadata": {
      "needs_background": "light"
     },
     "output_type": "display_data"
    }
   ],
   "source": [
    "# Logistic Regression\n",
    "\n",
    "new_log_reg_clf = LogisticRegression(random_state=42, solver=\"sag\", max_iter=100)\n",
    "new_log_reg_clf.fit(X_train, y_train)\n",
    "\n",
    "new_log_reg_preds = new_log_reg_clf.predict(X_test)\n",
    "\n",
    "print(\"Accuracy: {}\".format(metrics.accuracy_score(y_test, new_log_reg_preds)))\n",
    "print(\"Precision: {}\".format(metrics.precision_score(y_test, new_log_reg_preds)))\n",
    "print(\"Recall: {}\".format(metrics.recall_score(y_test, new_log_reg_preds)))\n",
    "print(\"F1: {}\".format(metrics.f1_score(y_test, new_log_reg_preds)))\n",
    "print(\"Confusion Matrix: \\n{}\".format(metrics.confusion_matrix(y_test, new_log_reg_preds)))\n",
    "\n",
    "metrics.plot_roc_curve(new_log_reg_clf, X_test, y_test)"
   ]
  },
  {
   "cell_type": "markdown",
   "metadata": {},
   "source": [
    "### Question 3.2.3 Explain what you changed, and why that produced an improved outcome. "
   ]
  },
  {
   "cell_type": "markdown",
   "metadata": {},
   "source": [
    "I changed the \"max_iter\" parameter of the Logistic Regression model from 10 to 100. This means that the learning algorithm was able to find a selection of weights and bias that minimized the cost function. The cost function indicates the error between the predictions and the actual true labels. In the case of logistic regression, the cost function is the negative log likelihood function. In theory, increasing the maximum iterations parameter can only help the model, as it is more likely to converge and find the correct paramters. However, we actually do not see a significant improvement in performance (actually, it regresses slightly). This is probably because this particular dataset is able to converge quickly, and even after 10 iterations, the algorithm was very close to converging. Thus, we don't see a significant improvement in performance, even after updating the maximum iterations parameter."
   ]
  },
  {
   "cell_type": "markdown",
   "metadata": {},
   "source": [
    "### Question 3.2.4 Rerun your logistic classifier, but modify the penalty = 'none', solver='sag' and again report the results."
   ]
  },
  {
   "cell_type": "code",
   "execution_count": 25,
   "metadata": {
    "scrolled": false
   },
   "outputs": [
    {
     "name": "stdout",
     "output_type": "stream",
     "text": [
      "Accuracy: 0.8461538461538461\n",
      "Precision: 0.8292682926829268\n",
      "Recall: 0.8292682926829268\n",
      "F1: 0.8292682926829268\n",
      "Confusion Matrix: \n",
      "[[43  7]\n",
      " [ 7 34]]\n"
     ]
    },
    {
     "name": "stderr",
     "output_type": "stream",
     "text": [
      "C:\\Users\\shado\\Anaconda3\\lib\\site-packages\\sklearn\\linear_model\\_sag.py:330: ConvergenceWarning: The max_iter was reached which means the coef_ did not converge\n",
      "  \"the coef_ did not converge\", ConvergenceWarning)\n"
     ]
    },
    {
     "data": {
      "text/plain": [
       "<sklearn.metrics._plot.roc_curve.RocCurveDisplay at 0x1f2051538c8>"
      ]
     },
     "execution_count": 25,
     "metadata": {},
     "output_type": "execute_result"
    },
    {
     "data": {
      "image/png": "[encoded data removed]",
      "text/plain": [
       "<Figure size 432x288 with 1 Axes>"
      ]
     },
     "metadata": {
      "needs_background": "light"
     },
     "output_type": "display_data"
    }
   ],
   "source": [
    "# Logistic Regression\n",
    "new2_log_reg_clf = LogisticRegression(random_state=42, solver=\"sag\", penalty=\"none\", max_iter=100)\n",
    "new2_log_reg_clf.fit(X_train, y_train)\n",
    "\n",
    "new2_log_reg_preds = new2_log_reg_clf.predict(X_test)\n",
    "\n",
    "print(\"Accuracy: {}\".format(metrics.accuracy_score(y_test, new2_log_reg_preds)))\n",
    "print(\"Precision: {}\".format(metrics.precision_score(y_test, new2_log_reg_preds)))\n",
    "print(\"Recall: {}\".format(metrics.recall_score(y_test, new2_log_reg_preds)))\n",
    "print(\"F1: {}\".format(metrics.f1_score(y_test, new2_log_reg_preds)))\n",
    "print(\"Confusion Matrix: \\n{}\".format(metrics.confusion_matrix(y_test, new2_log_reg_preds)))\n",
    "\n",
    "metrics.plot_roc_curve(new2_log_reg_clf, X_test, y_test)"
   ]
  },
  {
   "cell_type": "markdown",
   "metadata": {},
   "source": [
    "### Question 3.2.5 Explain what what the penalty parameter is doing in this function, what the solver method is, and why this combination likely produced a more optimal outcome. "
   ]
  },
  {
   "cell_type": "markdown",
   "metadata": {},
   "source": [
    "The penalty parameter sets the way in which the logistic regression computes the regularization for the model. A regularization is an extra value that is added to the cost function, and its purpose is to lower the weights of the model, thus leading to a simpler model and the reduction of overfitting. We can specify the penalty to be computed using an L1 norm, an L2 norm, or an elasticnet. We can also set it to none, where the model will not use a regularization term at all. \n",
    "\n",
    "The solver is the algorithm by which the Logistic Regression algorithm uses to find the minimum cost. It begins with an initial set of weights and it updates these weights per iteration, until it reaches a point of convergence, which is the point of minimum cost. When solver is set to \"sag\", it means that the algorithm used is called Stochastic Average Gradient Descent. This algorithm picks one point in the dataset and applies the weights to that point in order to get a prediction. If it is incorrect, the algorithm will update the weights. A similar method called Stochastic Gradient Descent uses just a single point for comparison per iteration. Its modified version, Stochastic Average Gradient Descent, incorporates results from previous iterations, so that it can converge faster than Stochastic Gradient Descent."
   ]
  },
  {
   "cell_type": "markdown",
   "metadata": {},
   "source": [
    "### Question 3.2.6 Both logistic regression and linear SVM are trying to classify data points using a linear decision boundary, then what’s the difference between their ways to find this boundary?"
   ]
  },
  {
   "cell_type": "markdown",
   "metadata": {},
   "source": [
    "Logistic Regression finds the decision boundary by finding a set of weights and minimizing the cost, over a number of iterations, using an algorithm known as gradient decsent. Once the weights are found, they can be generalized to the hyperplane/decision boundary.\n",
    "\n",
    "In contrast, SVM finds the closest two data points and draws support vectors that run through these lines. The support vectors are parallel to each other, and SVM tries to maximize the distance between them. The boundary that is found is the one that lies directly in the middle of the two support vectors. "
   ]
  },
  {
   "cell_type": "markdown",
   "metadata": {},
   "source": [
    "### Clustering Approaches "
   ]
  },
  {
   "cell_type": "markdown",
   "metadata": {},
   "source": [
    "Let us now try a different approach to classification using a clustering algorithm. Specifically, we're going to be using K-Nearest Neighbor, one of the most popular clustering approaches. "
   ]
  },
  {
   "cell_type": "markdown",
   "metadata": {},
   "source": [
    "### K-Nearest Neighbor  "
   ]
  },
  {
   "cell_type": "markdown",
   "metadata": {},
   "source": [
    "### Question 3.3.1 Implement a K-Nearest Neighbor algorithm on our data and report the results. For this initial implementation simply use the default settings. Refer to the [KNN Documentation](https://scikit-learn.org/stable/modules/generated/sklearn.neighbors.KNeighborsClassifier.html) for details on implementation. Report on the accuracy of the resulting model."
   ]
  },
  {
   "cell_type": "code",
   "execution_count": 26,
   "metadata": {
    "scrolled": false
   },
   "outputs": [
    {
     "name": "stdout",
     "output_type": "stream",
     "text": [
      "Accuracy: 0.8241758241758241\n",
      "Precision: 0.7906976744186046\n",
      "Recall: 0.8292682926829268\n",
      "F1: 0.8095238095238095\n",
      "Confusion Matrix: \n",
      "[[41  9]\n",
      " [ 7 34]]\n"
     ]
    },
    {
     "data": {
      "text/plain": [
       "<sklearn.metrics._plot.roc_curve.RocCurveDisplay at 0x1f2055822c8>"
      ]
     },
     "execution_count": 26,
     "metadata": {},
     "output_type": "execute_result"
    },
    {
     "data": {
      "image/png": "[encoded data removed]",
      "text/plain": [
       "<Figure size 432x288 with 1 Axes>"
      ]
     },
     "metadata": {
      "needs_background": "light"
     },
     "output_type": "display_data"
    }
   ],
   "source": [
    "# k-Nearest Neighbors algorithm\n",
    "\n",
    "knn_clf = KNeighborsClassifier()\n",
    "knn_clf.fit(X_train, y_train)\n",
    "\n",
    "knn_preds = knn_clf.predict(X_test)\n",
    "\n",
    "print(\"Accuracy: {}\".format(metrics.accuracy_score(y_test, knn_preds)))\n",
    "print(\"Precision: {}\".format(metrics.precision_score(y_test, knn_preds)))\n",
    "print(\"Recall: {}\".format(metrics.recall_score(y_test, knn_preds)))\n",
    "print(\"F1: {}\".format(metrics.f1_score(y_test, knn_preds)))\n",
    "print(\"Confusion Matrix: \\n{}\".format(metrics.confusion_matrix(y_test, knn_preds)))\n",
    "\n",
    "metrics.plot_roc_curve(knn_clf, X_test, y_test)"
   ]
  },
  {
   "cell_type": "markdown",
   "metadata": {},
   "source": [
    "### Question 3.3.2 For clustering algorithms, we use different measures to determine the effectiveness of the model. Specifically here, we're interested in the Homogeneity Score, Completeness Score, V-Measure, Adjusted Rand Score, and Adjusted Mutual Information. Calculate each score (hint review the SKlearn Metrics Clustering documentation for how to implement)."
   ]
  },
  {
   "cell_type": "code",
   "execution_count": 27,
   "metadata": {
    "scrolled": false
   },
   "outputs": [
    {
     "name": "stdout",
     "output_type": "stream",
     "text": [
      "Homogeneity score: 0.32939901704632263\n",
      "Completeness score: 0.32778522042452185\n",
      "V-Measure score: 0.32859013729750264\n",
      "Adjusted Rand Score score: 0.41391364708155476\n",
      "Adjusted Mutual Information score: 0.3231072567137206\n"
     ]
    }
   ],
   "source": [
    "print(\"Homogeneity score: {}\".format(metrics.homogeneity_score(y_test, knn_preds)))\n",
    "print(\"Completeness score: {}\".format(metrics.completeness_score(y_test, knn_preds)))\n",
    "print(\"V-Measure score: {}\".format(metrics.v_measure_score(y_test, knn_preds)))\n",
    "print(\"Adjusted Rand Score score: {}\".format(metrics.adjusted_rand_score(y_test, knn_preds)))\n",
    "print(\"Adjusted Mutual Information score: {}\".format(metrics.adjusted_mutual_info_score(y_test, knn_preds)))"
   ]
  },
  {
   "cell_type": "markdown",
   "metadata": {},
   "source": [
    "### Question 3.3.3 Explain what each score means and interpret the results for this particular model. "
   ]
  },
  {
   "cell_type": "markdown",
   "metadata": {},
   "source": [
    "Homogeneity score refers to how much of a particular cluster is of the same label. It returns a value between 0 and 1, where 0 represents an inhomogeneous cluster (there is the presence of both labels in the cluster) and 1 represents a homogeneous cluster (all samples in the cluster are of the same label).\n",
    "\n",
    "Completeness score refers to all of the data with the same label and whether or not they are in the same cluster. It returns a value between 0 and 1, where 1 represents the fact that all data with the same labels are within the same cluster, and 0 represents the opposite. \n",
    "\n",
    "V-Measure score refers to the harmonic mean between the homogeneity score and the completeness score. It is defined by the equation: ((1 + beta) * homogeneity * completeness)/(beta * homogeneity + completeness). In this case, beta refers to the ratio of weight attributed to homogeneity compared to completeness. If beta is greater than 1, completeness is weighted more strongly, and vice versa.\n",
    "\n",
    "Adjusted Rand score refers to the rand index score that is then adjusted to fit between 0 and 1. Rand Index is a measure of similarity between two clusterings by considering all pairs of possible samples and counting whether they are assigned to the same or different clusters in the predicted and true clusterings. Then, this rand index is fed into this equation for normalization: (RI - Expected_RI)/(max(RI) - Expected_RI). A score of 1 represents when clusterings are identical, but a score of 0 represents that they were labeled randomly and independently of the number of clusters and samples. \n",
    "\n",
    "Adjusted Mutual Information score refers to an adjustment to the mutual information score to account for chance. The mutual information score represents a measure of the mutual dependence between two random variables. The adjusted mutual score accoutns for the fact that the mutual information score is generally higher for two clusterings with a larger number of clusters, even though there may not actually be more information shared. It is defined by the equation: (MI(U, V) - E(MI(U, V)))/(avg(H(U), H(V)) - E(MI(U, V))) where U and V are two clusterings, H(.) is the entroy of a random variable, and E(.) is the expectation of a random variable. It returns a value of 1 when the two clusters or sets are identical and a value of 0 when the clusters are independently labeled."
   ]
  },
  {
   "cell_type": "markdown",
   "metadata": {},
   "source": [
    "As we're beginning to see, the input parameters for your model can dramatically impact the performance of the model. How do you know which settings to choose? Studying the models and studying your datasets are critical as they can help you anticipate which models and settings are likely to produce optimal results. However sometimes that isn't enough, and a brute force method is necessary to determine which parameters to use. For this next question we'll attempt to optimize a parameter using a brute force approach. "
   ]
  },
  {
   "cell_type": "markdown",
   "metadata": {},
   "source": [
    "### Question 3.3.4 Parameter Optimization.  The KNN Algorithm includes an n_neighbors attribute that specifies how many neighbors to use when developing the cluster. (The default value is 5, which is what your previous model used.) Lets now try n values of: 1, 2, 3, 5, 10, 20, 50, and 100. Run your model for each value and report the 6 measures (5 clustering specific plus accuracy) for each. Report on which n value produces the best accuracy and V-Measure. (HINT leverage python's ability to loop to run through the array and generate results without needing to manually code each iteration)."
   ]
  },
  {
   "cell_type": "code",
   "execution_count": 33,
   "metadata": {
    "scrolled": false
   },
   "outputs": [
    {
     "name": "stdout",
     "output_type": "stream",
     "text": [
      "Scores for KNN with 1 Neighbors\n",
      "Accuracy: 0.7582417582417582\n",
      "Homogeneity score: 0.20985098431317886\n",
      "Completeness score: 0.20853140645344054\n",
      "V-Measure score: 0.20918911440934143\n",
      "Adjusted Rand Score score: 0.2585989950396032\n",
      "Adjusted Mutual Information score: 0.20273603619785738\n",
      "\n",
      "\n",
      "Scores for KNN with 2 Neighbors\n",
      "Accuracy: 0.7472527472527473\n",
      "Homogeneity score: 0.17861037960004397\n",
      "Completeness score: 0.18315005279865285\n",
      "V-Measure score: 0.1808517323867137\n",
      "Adjusted Rand Score score: 0.23617238233242102\n",
      "Adjusted Mutual Information score: 0.17405400512227162\n",
      "\n",
      "\n",
      "Scores for KNN with 3 Neighbors\n",
      "Accuracy: 0.7802197802197802\n",
      "Homogeneity score: 0.2496425020846802\n",
      "Completeness score: 0.2480727085491445\n",
      "V-Measure score: 0.24885512975288338\n",
      "Adjusted Rand Score score: 0.30646282803441144\n",
      "Adjusted Mutual Information score: 0.24272572930559527\n",
      "\n",
      "\n",
      "Scores for KNN with 5 Neighbors\n",
      "Accuracy: 0.8241758241758241\n",
      "Homogeneity score: 0.32939901704632263\n",
      "Completeness score: 0.32778522042452185\n",
      "V-Measure score: 0.32859013729750264\n",
      "Adjusted Rand Score score: 0.41391364708155476\n",
      "Adjusted Mutual Information score: 0.3231072567137206\n",
      "\n",
      "\n",
      "Scores for KNN with 10 Neighbors\n",
      "Accuracy: 0.8241758241758241\n",
      "Homogeneity score: 0.3258940510936594\n",
      "Completeness score: 0.3258940510936594\n",
      "V-Measure score: 0.3258940510936594\n",
      "Adjusted Rand Score score: 0.41391854016339674\n",
      "Adjusted Mutual Information score: 0.3203745872108415\n",
      "\n",
      "\n",
      "Scores for KNN with 20 Neighbors\n",
      "Accuracy: 0.8461538461538461\n",
      "Homogeneity score: 0.37620925388444065\n",
      "Completeness score: 0.3791512192913599\n",
      "V-Measure score: 0.3776745074289339\n",
      "Adjusted Rand Score score: 0.4735103958323643\n",
      "Adjusted Mutual Information score: 0.37255766188986056\n",
      "\n",
      "\n",
      "Scores for KNN with 50 Neighbors\n",
      "Accuracy: 0.8571428571428571\n",
      "Homogeneity score: 0.40435266727056474\n",
      "Completeness score: 0.40578245127841794\n",
      "V-Measure score: 0.4050662975822981\n",
      "Adjusted Rand Score score: 0.5047641197201996\n",
      "Adjusted Mutual Information score: 0.4001858365952612\n",
      "\n",
      "\n",
      "Scores for KNN with 100 Neighbors\n",
      "Accuracy: 0.8571428571428571\n",
      "Homogeneity score: 0.40813676966794804\n",
      "Completeness score: 0.41851022925510817\n",
      "V-Measure score: 0.4132584120276255\n",
      "Adjusted Rand Score score: 0.5047818386733216\n",
      "Adjusted Mutual Information score: 0.4083893187908626\n",
      "\n",
      "\n"
     ]
    }
   ],
   "source": [
    "n_values = [1, 2, 3, 5, 10, 20, 50, 100]\n",
    "\n",
    "for n in n_values:\n",
    "    new_knn_clf = KNeighborsClassifier(n_neighbors=n)\n",
    "    new_knn_clf.fit(X_train, y_train)\n",
    "\n",
    "    new_knn_preds = new_knn_clf.predict(X_test)\n",
    "\n",
    "    print(\"Scores for KNN with {} Neighbors\".format(n))\n",
    "    print(\"Accuracy: {}\".format(metrics.accuracy_score(y_test, new_knn_preds)))\n",
    "    print(\"Homogeneity score: {}\".format(metrics.homogeneity_score(y_test, new_knn_preds)))\n",
    "    print(\"Completeness score: {}\".format(metrics.completeness_score(y_test, new_knn_preds)))\n",
    "    print(\"V-Measure score: {}\".format(metrics.v_measure_score(y_test, new_knn_preds)))\n",
    "    print(\"Adjusted Rand Score score: {}\".format(metrics.adjusted_rand_score(y_test, new_knn_preds)))\n",
    "    print(\"Adjusted Mutual Information score: {}\".format(metrics.adjusted_mutual_info_score(y_test, new_knn_preds)))\n",
    "    print('\\n')"
   ]
  },
  {
   "cell_type": "markdown",
   "metadata": {},
   "source": [
    "The n-value that produces the best results is 100. It results in the highest accuracy at around 0.857 or 85.7%. It seems as though we are generalizing quite well when we look at the nearest 100 neighbors in order to classify a point, which is around half of the entire training set. The accuracy is quite good, as we are classifying around 85% of the data correctly. The lower n values seem to be overfitting the data and is not generalized enough. Thus, their scores are much lower than that of 100 neighbors. "
   ]
  },
  {
   "cell_type": "markdown",
   "metadata": {},
   "source": [
    "### Question 3.3.5 When are clustering algorithms most effective, and what do you think  explains the comparative results we achieved?  "
   ]
  },
  {
   "cell_type": "code",
   "execution_count": 34,
   "metadata": {},
   "outputs": [
    {
     "name": "stdout",
     "output_type": "stream",
     "text": [
      "Scores for KNN with 100 Neighbors\n",
      "Accuracy: 0.8571428571428571\n",
      "Precision: 0.8888888888888888\n",
      "Recall: 0.7804878048780488\n",
      "F1: 0.8311688311688312\n"
     ]
    }
   ],
   "source": [
    "print(\"Scores for KNN with {} Neighbors\".format(100))\n",
    "print(\"Accuracy: {}\".format(metrics.accuracy_score(y_test, new_knn_preds)))\n",
    "print(\"Precision: {}\".format(metrics.precision_score(y_test, new_knn_preds)))\n",
    "print(\"Recall: {}\".format(metrics.recall_score(y_test, new_knn_preds)))\n",
    "print(\"F1: {}\".format(metrics.f1_score(y_test, new_knn_preds)))"
   ]
  },
  {
   "cell_type": "markdown",
   "metadata": {},
   "source": [
    "Clustering algorithms are most effective when there are no associated labels with the dataset, or in other words, we are performing unsupervised training. This allows us to identify different groups without actually knowing what their true labels are. We can do this just by looking at the similarities between the samples' feature values. \n",
    "\n",
    "In comparing different classification algorithms, we explored the performances of three main classification algorithms: SVM, logistic regression and K-Nearest Neighbors. Each of these algorithms have their own strengths and weaknesses. In our case, we focus more on the recall score and the F1 score. As mentioned above, recall score is more important in our case, because we don't want to misclassify diseased patients as healthy. Additionally, F1 score is also important because it provides a more general and balanced score compared to accuracy.\n",
    "\n",
    "SVM achieved an F1 score of 0.8571 and a recall score of 0.8780. SVM has both the highest F1 and recall score for our particular use case, and thus it can be concluded that it performed the best. SVM performs well there is a clear separation between two classes.  \n",
    "\n",
    "Logistic regression achieved an F1 score and a recall score of 0.8293. Logistic regression had a slightly lower F1 score but a higher recall score than KNN. Logistic regression is beneficial if we want to find out the probability that a sample belongs to a particular class, instead of just a guess at what the label is. \n",
    "\n",
    "KNN achieved an F1 score of 0.8311 and a recall score of 0.7804. KNN achieved the worst results out of all our algorithms, but that does not mean that it is the worst algorithm. Its strengths are apparent when there is a lot of overlap between feature values of data points. Additionally, it does not require a training step, as it simply just needs to find the nearest neighbors within the existing dataset. That being said, it must carry around the entire dataset, which may be expensive or have high memory consumption. Finally, the KNN algorithm yields complex decision boundaries. "
   ]
  }
 ],
 "metadata": {
  "kernelspec": {
   "display_name": "Python 3",
   "language": "python",
   "name": "python3"
  },
  "language_info": {
   "codemirror_mode": {
    "name": "ipython",
    "version": 3
   },
   "file_extension": ".py",
   "mimetype": "text/x-python",
   "name": "python",
   "nbconvert_exporter": "python",
   "pygments_lexer": "ipython3",
   "version": "3.7.4"
  }
 },
 "nbformat": 4,
 "nbformat_minor": 2
}
